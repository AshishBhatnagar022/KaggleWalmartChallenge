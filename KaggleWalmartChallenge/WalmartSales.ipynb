{
 "cells": [
  {
   "cell_type": "code",
   "execution_count": 1,
   "metadata": {},
   "outputs": [
    {
     "data": {
      "text/html": [
       "<div>\n",
       "<style scoped>\n",
       "    .dataframe tbody tr th:only-of-type {\n",
       "        vertical-align: middle;\n",
       "    }\n",
       "\n",
       "    .dataframe tbody tr th {\n",
       "        vertical-align: top;\n",
       "    }\n",
       "\n",
       "    .dataframe thead th {\n",
       "        text-align: right;\n",
       "    }\n",
       "</style>\n",
       "<table border=\"1\" class=\"dataframe\">\n",
       "  <thead>\n",
       "    <tr style=\"text-align: right;\">\n",
       "      <th></th>\n",
       "      <th>Store</th>\n",
       "      <th>Dept</th>\n",
       "      <th>Date</th>\n",
       "      <th>Weekly_Sales</th>\n",
       "      <th>IsHoliday</th>\n",
       "      <th>Type</th>\n",
       "      <th>Size</th>\n",
       "      <th>Temperature</th>\n",
       "      <th>Fuel_Price</th>\n",
       "      <th>MarkDown1</th>\n",
       "      <th>MarkDown2</th>\n",
       "      <th>MarkDown3</th>\n",
       "      <th>MarkDown4</th>\n",
       "      <th>MarkDown5</th>\n",
       "      <th>CPI</th>\n",
       "      <th>Unemployment</th>\n",
       "    </tr>\n",
       "  </thead>\n",
       "  <tbody>\n",
       "    <tr>\n",
       "      <th>0</th>\n",
       "      <td>1</td>\n",
       "      <td>1</td>\n",
       "      <td>2010-02-05</td>\n",
       "      <td>24924.50</td>\n",
       "      <td>False</td>\n",
       "      <td>A</td>\n",
       "      <td>151315</td>\n",
       "      <td>42.31</td>\n",
       "      <td>2.572</td>\n",
       "      <td>NaN</td>\n",
       "      <td>NaN</td>\n",
       "      <td>NaN</td>\n",
       "      <td>NaN</td>\n",
       "      <td>NaN</td>\n",
       "      <td>211.096358</td>\n",
       "      <td>8.106</td>\n",
       "    </tr>\n",
       "    <tr>\n",
       "      <th>1</th>\n",
       "      <td>1</td>\n",
       "      <td>1</td>\n",
       "      <td>2010-02-12</td>\n",
       "      <td>46039.49</td>\n",
       "      <td>True</td>\n",
       "      <td>A</td>\n",
       "      <td>151315</td>\n",
       "      <td>38.51</td>\n",
       "      <td>2.548</td>\n",
       "      <td>NaN</td>\n",
       "      <td>NaN</td>\n",
       "      <td>NaN</td>\n",
       "      <td>NaN</td>\n",
       "      <td>NaN</td>\n",
       "      <td>211.242170</td>\n",
       "      <td>8.106</td>\n",
       "    </tr>\n",
       "    <tr>\n",
       "      <th>2</th>\n",
       "      <td>1</td>\n",
       "      <td>1</td>\n",
       "      <td>2010-02-19</td>\n",
       "      <td>41595.55</td>\n",
       "      <td>False</td>\n",
       "      <td>A</td>\n",
       "      <td>151315</td>\n",
       "      <td>39.93</td>\n",
       "      <td>2.514</td>\n",
       "      <td>NaN</td>\n",
       "      <td>NaN</td>\n",
       "      <td>NaN</td>\n",
       "      <td>NaN</td>\n",
       "      <td>NaN</td>\n",
       "      <td>211.289143</td>\n",
       "      <td>8.106</td>\n",
       "    </tr>\n",
       "    <tr>\n",
       "      <th>3</th>\n",
       "      <td>1</td>\n",
       "      <td>1</td>\n",
       "      <td>2010-02-26</td>\n",
       "      <td>19403.54</td>\n",
       "      <td>False</td>\n",
       "      <td>A</td>\n",
       "      <td>151315</td>\n",
       "      <td>46.63</td>\n",
       "      <td>2.561</td>\n",
       "      <td>NaN</td>\n",
       "      <td>NaN</td>\n",
       "      <td>NaN</td>\n",
       "      <td>NaN</td>\n",
       "      <td>NaN</td>\n",
       "      <td>211.319643</td>\n",
       "      <td>8.106</td>\n",
       "    </tr>\n",
       "    <tr>\n",
       "      <th>4</th>\n",
       "      <td>1</td>\n",
       "      <td>1</td>\n",
       "      <td>2010-03-05</td>\n",
       "      <td>21827.90</td>\n",
       "      <td>False</td>\n",
       "      <td>A</td>\n",
       "      <td>151315</td>\n",
       "      <td>46.50</td>\n",
       "      <td>2.625</td>\n",
       "      <td>NaN</td>\n",
       "      <td>NaN</td>\n",
       "      <td>NaN</td>\n",
       "      <td>NaN</td>\n",
       "      <td>NaN</td>\n",
       "      <td>211.350143</td>\n",
       "      <td>8.106</td>\n",
       "    </tr>\n",
       "  </tbody>\n",
       "</table>\n",
       "</div>"
      ],
      "text/plain": [
       "   Store  Dept        Date  Weekly_Sales  IsHoliday Type    Size  Temperature  \\\n",
       "0      1     1  2010-02-05      24924.50      False    A  151315        42.31   \n",
       "1      1     1  2010-02-12      46039.49       True    A  151315        38.51   \n",
       "2      1     1  2010-02-19      41595.55      False    A  151315        39.93   \n",
       "3      1     1  2010-02-26      19403.54      False    A  151315        46.63   \n",
       "4      1     1  2010-03-05      21827.90      False    A  151315        46.50   \n",
       "\n",
       "   Fuel_Price  MarkDown1  MarkDown2  MarkDown3  MarkDown4  MarkDown5  \\\n",
       "0       2.572        NaN        NaN        NaN        NaN        NaN   \n",
       "1       2.548        NaN        NaN        NaN        NaN        NaN   \n",
       "2       2.514        NaN        NaN        NaN        NaN        NaN   \n",
       "3       2.561        NaN        NaN        NaN        NaN        NaN   \n",
       "4       2.625        NaN        NaN        NaN        NaN        NaN   \n",
       "\n",
       "          CPI  Unemployment  \n",
       "0  211.096358         8.106  \n",
       "1  211.242170         8.106  \n",
       "2  211.289143         8.106  \n",
       "3  211.319643         8.106  \n",
       "4  211.350143         8.106  "
      ]
     },
     "execution_count": 1,
     "metadata": {},
     "output_type": "execute_result"
    }
   ],
   "source": [
    "import pandas as pd\n",
    "import numpy as np\n",
    "import matplotlib as plt\n",
    "import seaborn as sns\n",
    "%matplotlib inline\n",
    "\n",
    "stores=pd.read_csv('stores.csv')\n",
    "features=pd.read_csv('features.csv')\n",
    "train=pd.read_csv('train.csv')\n",
    "train = train.merge(stores, how='left').merge(features, how='left')\n",
    "num=pd.DataFrame()\n",
    "cat=pd.DataFrame()\n",
    "train.head()\n",
    "# abc=pd.DataFrame()\n",
    "# abc=train\n"
   ]
  },
  {
   "cell_type": "code",
   "execution_count": 2,
   "metadata": {},
   "outputs": [
    {
     "name": "stdout",
     "output_type": "stream",
     "text": [
      "[]\n"
     ]
    }
   ],
   "source": [
    "# Create correlation matrix\n",
    "corr_matrix = train.corr().abs()\n",
    "\n",
    "# Select upper triangle of correlation matrix\n",
    "upper = corr_matrix.where(np.triu(np.ones(corr_matrix.shape), k=1).astype(np.bool))\n",
    "\n",
    "# Find index of feature columns with correlation greater than 0.95\n",
    "to_drop = [column for column in upper.columns if any(upper[column] > 0.95)]\n",
    "print(to_drop)"
   ]
  },
  {
   "cell_type": "code",
   "execution_count": 3,
   "metadata": {},
   "outputs": [
    {
     "data": {
      "text/plain": [
       "<matplotlib.axes._subplots.AxesSubplot at 0x18c8a3a10b8>"
      ]
     },
     "execution_count": 3,
     "metadata": {},
     "output_type": "execute_result"
    },
    {
     "data": {
      "image/png": "[encoded data removed]",
      "text/plain": [
       "<Figure size 432x288 with 1 Axes>"
      ]
     },
     "metadata": {
      "needs_background": "light"
     },
     "output_type": "display_data"
    }
   ],
   "source": [
    "cat['Store']=train['Store']\n",
    "\n",
    "sns.scatterplot(train['Store'],train['Weekly_Sales'])\n"
   ]
  },
  {
   "cell_type": "code",
   "execution_count": 4,
   "metadata": {},
   "outputs": [
    {
     "data": {
      "text/plain": [
       "<matplotlib.axes._subplots.AxesSubplot at 0x18c8b053710>"
      ]
     },
     "execution_count": 4,
     "metadata": {},
     "output_type": "execute_result"
    },
    {
     "data": {
      "image/png": "[encoded data removed]",
      "text/plain": [
       "<Figure size 432x288 with 1 Axes>"
      ]
     },
     "metadata": {
      "needs_background": "light"
     },
     "output_type": "display_data"
    }
   ],
   "source": [
    "cat['Dept']=train['Dept']\n",
    "cat['Dept'].isnull().sum()\n",
    "cat['Dept'].unique()\n",
    "sns.scatterplot(train['Dept'],train['Weekly_Sales'])\n"
   ]
  },
  {
   "cell_type": "code",
   "execution_count": 5,
   "metadata": {},
   "outputs": [
    {
     "data": {
      "text/plain": [
       "<matplotlib.axes._subplots.AxesSubplot at 0x18c8b0c4be0>"
      ]
     },
     "execution_count": 5,
     "metadata": {},
     "output_type": "execute_result"
    },
    {
     "data": {
      "image/png": "[encoded data removed]",
      "text/plain": [
       "<Figure size 432x288 with 1 Axes>"
      ]
     },
     "metadata": {
      "needs_background": "light"
     },
     "output_type": "display_data"
    }
   ],
   "source": [
    "num['Date']=train['Date']\n",
    "num['Date'].isnull().sum()\n",
    "sns.scatterplot(train['Date'],train['Weekly_Sales'])\n"
   ]
  },
  {
   "cell_type": "code",
   "execution_count": 6,
   "metadata": {},
   "outputs": [
    {
     "data": {
      "text/plain": [
       "0"
      ]
     },
     "execution_count": 6,
     "metadata": {},
     "output_type": "execute_result"
    }
   ],
   "source": [
    "num['Weekly_Sales']=train['Weekly_Sales']\n",
    "num['Weekly_Sales'].isnull().sum()"
   ]
  },
  {
   "cell_type": "code",
   "execution_count": 7,
   "metadata": {},
   "outputs": [
    {
     "data": {
      "text/plain": [
       "<matplotlib.axes._subplots.AxesSubplot at 0x18c8b257e10>"
      ]
     },
     "execution_count": 7,
     "metadata": {},
     "output_type": "execute_result"
    },
    {
     "data": {
      "image/png": "[encoded data removed]",
      "text/plain": [
       "<Figure size 432x288 with 1 Axes>"
      ]
     },
     "metadata": {
      "needs_background": "light"
     },
     "output_type": "display_data"
    }
   ],
   "source": [
    "cat['IsHoliday']=train['IsHoliday']\n",
    "cat['IsHoliday'].isnull().sum()\n",
    "sns.countplot(cat['IsHoliday'])"
   ]
  },
  {
   "cell_type": "code",
   "execution_count": 8,
   "metadata": {},
   "outputs": [
    {
     "data": {
      "text/plain": [
       "<matplotlib.axes._subplots.AxesSubplot at 0x18c8b28a5c0>"
      ]
     },
     "execution_count": 8,
     "metadata": {},
     "output_type": "execute_result"
    },
    {
     "data": {
      "image/png": "[encoded data removed]",
      "text/plain": [
       "<Figure size 432x288 with 1 Axes>"
      ]
     },
     "metadata": {
      "needs_background": "light"
     },
     "output_type": "display_data"
    }
   ],
   "source": [
    "cat['Type']=train['Type']\n",
    "cat['Type'].isnull().sum()\n",
    "sns.countplot(cat['Type'])"
   ]
  },
  {
   "cell_type": "code",
   "execution_count": 9,
   "metadata": {},
   "outputs": [
    {
     "data": {
      "text/plain": [
       "<matplotlib.axes._subplots.AxesSubplot at 0x18c8b31b908>"
      ]
     },
     "execution_count": 9,
     "metadata": {},
     "output_type": "execute_result"
    },
    {
     "data": {
      "image/png": "[encoded data removed]",
      "text/plain": [
       "<Figure size 432x288 with 1 Axes>"
      ]
     },
     "metadata": {
      "needs_background": "light"
     },
     "output_type": "display_data"
    }
   ],
   "source": [
    "# sns.countplot(train['Size'])\n",
    "train['Size'].unique()\n",
    "cat['Size']=train['Size']\n",
    "sns.scatterplot(cat['Size'],num['Weekly_Sales'])"
   ]
  },
  {
   "cell_type": "code",
   "execution_count": 10,
   "metadata": {},
   "outputs": [
    {
     "data": {
      "text/plain": [
       "<matplotlib.axes._subplots.AxesSubplot at 0x18c8b320be0>"
      ]
     },
     "execution_count": 10,
     "metadata": {},
     "output_type": "execute_result"
    },
    {
     "data": {
      "image/png": "[encoded data removed]",
      "text/plain": [
       "<Figure size 432x288 with 1 Axes>"
      ]
     },
     "metadata": {
      "needs_background": "light"
     },
     "output_type": "display_data"
    }
   ],
   "source": [
    "cat['Temperature']=train['Temperature']\n",
    "train['Temperature'].value_counts()\n",
    "num.head()\n",
    "sns.scatterplot(train['Temperature'],train['Weekly_Sales'])"
   ]
  },
  {
   "cell_type": "code",
   "execution_count": 11,
   "metadata": {},
   "outputs": [
    {
     "data": {
      "text/plain": [
       "<matplotlib.axes._subplots.AxesSubplot at 0x18c8d152908>"
      ]
     },
     "execution_count": 11,
     "metadata": {},
     "output_type": "execute_result"
    },
    {
     "data": {
      "image/png": "[encoded data removed]",
      "text/plain": [
       "<Figure size 432x288 with 1 Axes>"
      ]
     },
     "metadata": {
      "needs_background": "light"
     },
     "output_type": "display_data"
    }
   ],
   "source": [
    "train['Fuel_Price'].value_counts()\n",
    "cat['Fuel_Price']=train['Fuel_Price']\n",
    "sns.scatterplot(cat['Fuel_Price'],num['Weekly_Sales'])"
   ]
  },
  {
   "cell_type": "code",
   "execution_count": 12,
   "metadata": {},
   "outputs": [
    {
     "data": {
      "text/plain": [
       "0"
      ]
     },
     "execution_count": 12,
     "metadata": {},
     "output_type": "execute_result"
    },
    {
     "data": {
      "image/png": "[encoded data removed]",
      "text/plain": [
       "<Figure size 432x288 with 1 Axes>"
      ]
     },
     "metadata": {
      "needs_background": "light"
     },
     "output_type": "display_data"
    }
   ],
   "source": [
    "cat['MarkDown1']=train['MarkDown1']\n",
    "cat['MarkDown1'].fillna(value=0,inplace=True)\n",
    "sns.scatterplot(cat['MarkDown1'],num['Weekly_Sales'])\n",
    "cat.head()\n",
    "cat['MarkDown1'].isnull().sum()"
   ]
  },
  {
   "cell_type": "code",
   "execution_count": 13,
   "metadata": {},
   "outputs": [
    {
     "data": {
      "text/plain": [
       "0"
      ]
     },
     "execution_count": 13,
     "metadata": {},
     "output_type": "execute_result"
    },
    {
     "data": {
      "image/png": "[encoded data removed]",
      "text/plain": [
       "<Figure size 432x288 with 1 Axes>"
      ]
     },
     "metadata": {
      "needs_background": "light"
     },
     "output_type": "display_data"
    }
   ],
   "source": [
    "cat['MarkDown2']=train['MarkDown2']\n",
    "cat['MarkDown2'].fillna(value=0,inplace=True)\n",
    "sns.scatterplot(cat['MarkDown2'],num['Weekly_Sales'])\n",
    "\n",
    "cat['MarkDown2'].isnull().sum()"
   ]
  },
  {
   "cell_type": "code",
   "execution_count": 15,
   "metadata": {},
   "outputs": [
    {
     "data": {
      "text/plain": [
       "0"
      ]
     },
     "execution_count": 15,
     "metadata": {},
     "output_type": "execute_result"
    },
    {
     "data": {
      "image/png": "[encoded data removed]",
      "text/plain": [
       "<Figure size 432x288 with 1 Axes>"
      ]
     },
     "metadata": {
      "needs_background": "light"
     },
     "output_type": "display_data"
    }
   ],
   "source": [
    "cat['MarkDown3']=train['MarkDown3']\n",
    "cat['MarkDown3'].fillna(value=0,inplace=True)\n",
    "sns.scatterplot(cat['MarkDown3'],num['Weekly_Sales'])\n",
    "\n",
    "cat['MarkDown3'].isnull().sum()"
   ]
  },
  {
   "cell_type": "code",
   "execution_count": 16,
   "metadata": {},
   "outputs": [
    {
     "data": {
      "text/plain": [
       "0"
      ]
     },
     "execution_count": 16,
     "metadata": {},
     "output_type": "execute_result"
    },
    {
     "data": {
      "image/png": "[encoded data removed]",
      "text/plain": [
       "<Figure size 432x288 with 1 Axes>"
      ]
     },
     "metadata": {
      "needs_background": "light"
     },
     "output_type": "display_data"
    }
   ],
   "source": [
    "cat['MarkDown4']=train['MarkDown4']\n",
    "cat['MarkDown4'].fillna(value=0,inplace=True)\n",
    "sns.scatterplot(cat['MarkDown4'],num['Weekly_Sales'])\n",
    "\n",
    "cat['MarkDown4'].isnull().sum()"
   ]
  },
  {
   "cell_type": "code",
   "execution_count": 17,
   "metadata": {},
   "outputs": [
    {
     "data": {
      "text/plain": [
       "0"
      ]
     },
     "execution_count": 17,
     "metadata": {},
     "output_type": "execute_result"
    },
    {
     "data": {
      "image/png": "[encoded data removed]",
      "text/plain": [
       "<Figure size 432x288 with 1 Axes>"
      ]
     },
     "metadata": {
      "needs_background": "light"
     },
     "output_type": "display_data"
    }
   ],
   "source": [
    "cat['MarkDown5']=train['MarkDown5']\n",
    "cat['MarkDown5'].fillna(value=0,inplace=True)\n",
    "sns.scatterplot(cat['MarkDown5'],num['Weekly_Sales'])\n",
    "\n",
    "cat['MarkDown5'].isnull().sum()"
   ]
  },
  {
   "cell_type": "code",
   "execution_count": 18,
   "metadata": {},
   "outputs": [
    {
     "data": {
      "text/plain": [
       "<matplotlib.axes._subplots.AxesSubplot at 0x18c9244a860>"
      ]
     },
     "execution_count": 18,
     "metadata": {},
     "output_type": "execute_result"
    },
    {
     "data": {
      "image/png": "[encoded data removed]",
      "text/plain": [
       "<Figure size 432x288 with 1 Axes>"
      ]
     },
     "metadata": {
      "needs_background": "light"
     },
     "output_type": "display_data"
    }
   ],
   "source": [
    "# train['CPI'].unique()\n",
    "cat['CPI']=train['CPI']\n",
    "sns.scatterplot(cat['CPI'],num['Weekly_Sales'])\n"
   ]
  },
  {
   "cell_type": "code",
   "execution_count": 69,
   "metadata": {},
   "outputs": [
    {
     "data": {
      "text/plain": [
       "0"
      ]
     },
     "execution_count": 69,
     "metadata": {},
     "output_type": "execute_result"
    }
   ],
   "source": [
    "train['Unemployment'].isnull().sum()"
   ]
  },
  {
   "cell_type": "code",
   "execution_count": null,
   "metadata": {},
   "outputs": [],
   "source": []
  },
  {
   "cell_type": "code",
   "execution_count": 19,
   "metadata": {},
   "outputs": [
    {
     "data": {
      "text/plain": [
       "<matplotlib.axes._subplots.AxesSubplot at 0x18c938cf240>"
      ]
     },
     "execution_count": 19,
     "metadata": {},
     "output_type": "execute_result"
    },
    {
     "data": {
      "image/png": "[encoded data removed]",
      "text/plain": [
       "<Figure size 432x288 with 1 Axes>"
      ]
     },
     "metadata": {
      "needs_background": "light"
     },
     "output_type": "display_data"
    }
   ],
   "source": [
    "train['Unemployment'].value_counts()\n",
    "cat['Unemployment']=train['Unemployment']\n",
    "sns.scatterplot(cat['Unemployment'],num['Weekly_Sales'])\n"
   ]
  },
  {
   "cell_type": "markdown",
   "metadata": {},
   "source": [
    "# Feature Engineering"
   ]
  },
  {
   "cell_type": "code",
   "execution_count": 22,
   "metadata": {},
   "outputs": [],
   "source": [
    "cols =  ['Date']\n",
    "#cols =  ['deadline']\n",
    "\n",
    "for col in cols:\n",
    "    num[col] = pd.to_datetime(num[col])\n",
    "    \n",
    "#     dt_num[col] = pd.to_datetime(test[col])\n",
    "\n",
    "\n",
    "num['year'] = num[\"Date\"].dt.year\n",
    "num['month'] =num[\"Date\"].dt.month\n",
    "num['day'] = num[\"Date\"].dt.day\n",
    "num.head()\n",
    "num.drop(labels={'Date'},axis=1,inplace=True)"
   ]
  },
  {
   "cell_type": "code",
   "execution_count": 23,
   "metadata": {},
   "outputs": [
    {
     "data": {
      "text/plain": [
       "0    89793\n",
       "3    89663\n",
       "2    87524\n",
       "4    79529\n",
       "1    75061\n",
       "Name: Storesbin, dtype: int64"
      ]
     },
     "execution_count": 23,
     "metadata": {},
     "output_type": "execute_result"
    }
   ],
   "source": [
    "bins=np.linspace(min(train['Store']),max(train['Store']),6)\n",
    "g={'0-10','10-20','20-30','30-40','40-50'}\n",
    "cat['Storesbin']=pd.cut(cat['Store'],bins,labels=g,include_lowest=True)\n",
    "\n",
    "# cat['Storesbin'] = cat['Storesbin'].replace(['0-10','Sel], 'Pri')\n",
    "# dt_cat[\"workclass\"] = dt_cat[\"workclass\"].replace(['Local-gov','State-gov','Federal-gov'], 'Govt')\n",
    "# dt_cat[\"workclass\"] = dt_cat[\"workclass\"].replace(['Other','Without-pay','Never-worked'], 'Oth')\n",
    "\n",
    "cat['Storesbin'] = cat['Storesbin'].map({\"0-10\":0, \"10-20\":1, \"20-30\":2,\"30-40\":3,\"40-50\":4})\n",
    "store_one_hot = pd.get_dummies(cat['Storesbin'],prefix='Store')\n",
    "store_one_hot.head()\n",
    "# cat.head()\n",
    "cat['Storesbin'].value_counts()"
   ]
  },
  {
   "cell_type": "code",
   "execution_count": 24,
   "metadata": {},
   "outputs": [
    {
     "data": {
      "text/html": [
       "<div>\n",
       "<style scoped>\n",
       "    .dataframe tbody tr th:only-of-type {\n",
       "        vertical-align: middle;\n",
       "    }\n",
       "\n",
       "    .dataframe tbody tr th {\n",
       "        vertical-align: top;\n",
       "    }\n",
       "\n",
       "    .dataframe thead th {\n",
       "        text-align: right;\n",
       "    }\n",
       "</style>\n",
       "<table border=\"1\" class=\"dataframe\">\n",
       "  <thead>\n",
       "    <tr style=\"text-align: right;\">\n",
       "      <th></th>\n",
       "      <th>Dept_0</th>\n",
       "      <th>Dept_1</th>\n",
       "      <th>Dept_2</th>\n",
       "      <th>Dept_3</th>\n",
       "      <th>Dept_4</th>\n",
       "    </tr>\n",
       "  </thead>\n",
       "  <tbody>\n",
       "    <tr>\n",
       "      <th>0</th>\n",
       "      <td>0</td>\n",
       "      <td>0</td>\n",
       "      <td>0</td>\n",
       "      <td>1</td>\n",
       "      <td>0</td>\n",
       "    </tr>\n",
       "    <tr>\n",
       "      <th>1</th>\n",
       "      <td>0</td>\n",
       "      <td>0</td>\n",
       "      <td>0</td>\n",
       "      <td>1</td>\n",
       "      <td>0</td>\n",
       "    </tr>\n",
       "    <tr>\n",
       "      <th>2</th>\n",
       "      <td>0</td>\n",
       "      <td>0</td>\n",
       "      <td>0</td>\n",
       "      <td>1</td>\n",
       "      <td>0</td>\n",
       "    </tr>\n",
       "    <tr>\n",
       "      <th>3</th>\n",
       "      <td>0</td>\n",
       "      <td>0</td>\n",
       "      <td>0</td>\n",
       "      <td>1</td>\n",
       "      <td>0</td>\n",
       "    </tr>\n",
       "    <tr>\n",
       "      <th>4</th>\n",
       "      <td>0</td>\n",
       "      <td>0</td>\n",
       "      <td>0</td>\n",
       "      <td>1</td>\n",
       "      <td>0</td>\n",
       "    </tr>\n",
       "  </tbody>\n",
       "</table>\n",
       "</div>"
      ],
      "text/plain": [
       "   Dept_0  Dept_1  Dept_2  Dept_3  Dept_4\n",
       "0       0       0       0       1       0\n",
       "1       0       0       0       1       0\n",
       "2       0       0       0       1       0\n",
       "3       0       0       0       1       0\n",
       "4       0       0       0       1       0"
      ]
     },
     "execution_count": 24,
     "metadata": {},
     "output_type": "execute_result"
    }
   ],
   "source": [
    "cat['Dept'].value_counts()\n",
    "# sns.scatterplot(train['Dept'],train['Weekly_Sales'])\n",
    "bins=np.linspace(min(train['Dept']),max(train['Dept']),6)\n",
    "g={'0-20','20-40','40-60','60-80','80-100'}\n",
    "cat['Deptbin']=pd.cut(cat['Dept'],bins,labels=g,include_lowest=True)\n",
    "cat['Deptbin'] = cat['Deptbin'].map({\"0-20\":0, \"20-40\":1, \"40-60\":2,\"60-80\":3,\"80-100\":4})\n",
    "dept_one_hot = pd.get_dummies(cat['Deptbin'],prefix='Dept')\n",
    "dept_one_hot.head()\n",
    "# train.shape"
   ]
  },
  {
   "cell_type": "code",
   "execution_count": 25,
   "metadata": {},
   "outputs": [
    {
     "data": {
      "text/html": [
       "<div>\n",
       "<style scoped>\n",
       "    .dataframe tbody tr th:only-of-type {\n",
       "        vertical-align: middle;\n",
       "    }\n",
       "\n",
       "    .dataframe tbody tr th {\n",
       "        vertical-align: top;\n",
       "    }\n",
       "\n",
       "    .dataframe thead th {\n",
       "        text-align: right;\n",
       "    }\n",
       "</style>\n",
       "<table border=\"1\" class=\"dataframe\">\n",
       "  <thead>\n",
       "    <tr style=\"text-align: right;\">\n",
       "      <th></th>\n",
       "      <th>Store</th>\n",
       "      <th>Dept</th>\n",
       "      <th>IsHoliday</th>\n",
       "      <th>Type</th>\n",
       "      <th>Size</th>\n",
       "      <th>Temperature</th>\n",
       "      <th>Fuel_Price</th>\n",
       "      <th>MarkDown1</th>\n",
       "      <th>MarkDown2</th>\n",
       "      <th>MarkDown3</th>\n",
       "      <th>MarkDown4</th>\n",
       "      <th>MarkDown5</th>\n",
       "      <th>CPI</th>\n",
       "      <th>Unemployment</th>\n",
       "      <th>Storesbin</th>\n",
       "      <th>Deptbin</th>\n",
       "    </tr>\n",
       "  </thead>\n",
       "  <tbody>\n",
       "    <tr>\n",
       "      <th>0</th>\n",
       "      <td>1</td>\n",
       "      <td>1</td>\n",
       "      <td>0</td>\n",
       "      <td>A</td>\n",
       "      <td>151315</td>\n",
       "      <td>42.31</td>\n",
       "      <td>2.572</td>\n",
       "      <td>0.0</td>\n",
       "      <td>0.0</td>\n",
       "      <td>0.0</td>\n",
       "      <td>0.0</td>\n",
       "      <td>0.0</td>\n",
       "      <td>211.096358</td>\n",
       "      <td>8.106</td>\n",
       "      <td>2</td>\n",
       "      <td>3</td>\n",
       "    </tr>\n",
       "    <tr>\n",
       "      <th>1</th>\n",
       "      <td>1</td>\n",
       "      <td>1</td>\n",
       "      <td>1</td>\n",
       "      <td>A</td>\n",
       "      <td>151315</td>\n",
       "      <td>38.51</td>\n",
       "      <td>2.548</td>\n",
       "      <td>0.0</td>\n",
       "      <td>0.0</td>\n",
       "      <td>0.0</td>\n",
       "      <td>0.0</td>\n",
       "      <td>0.0</td>\n",
       "      <td>211.242170</td>\n",
       "      <td>8.106</td>\n",
       "      <td>2</td>\n",
       "      <td>3</td>\n",
       "    </tr>\n",
       "    <tr>\n",
       "      <th>2</th>\n",
       "      <td>1</td>\n",
       "      <td>1</td>\n",
       "      <td>0</td>\n",
       "      <td>A</td>\n",
       "      <td>151315</td>\n",
       "      <td>39.93</td>\n",
       "      <td>2.514</td>\n",
       "      <td>0.0</td>\n",
       "      <td>0.0</td>\n",
       "      <td>0.0</td>\n",
       "      <td>0.0</td>\n",
       "      <td>0.0</td>\n",
       "      <td>211.289143</td>\n",
       "      <td>8.106</td>\n",
       "      <td>2</td>\n",
       "      <td>3</td>\n",
       "    </tr>\n",
       "    <tr>\n",
       "      <th>3</th>\n",
       "      <td>1</td>\n",
       "      <td>1</td>\n",
       "      <td>0</td>\n",
       "      <td>A</td>\n",
       "      <td>151315</td>\n",
       "      <td>46.63</td>\n",
       "      <td>2.561</td>\n",
       "      <td>0.0</td>\n",
       "      <td>0.0</td>\n",
       "      <td>0.0</td>\n",
       "      <td>0.0</td>\n",
       "      <td>0.0</td>\n",
       "      <td>211.319643</td>\n",
       "      <td>8.106</td>\n",
       "      <td>2</td>\n",
       "      <td>3</td>\n",
       "    </tr>\n",
       "    <tr>\n",
       "      <th>4</th>\n",
       "      <td>1</td>\n",
       "      <td>1</td>\n",
       "      <td>0</td>\n",
       "      <td>A</td>\n",
       "      <td>151315</td>\n",
       "      <td>46.50</td>\n",
       "      <td>2.625</td>\n",
       "      <td>0.0</td>\n",
       "      <td>0.0</td>\n",
       "      <td>0.0</td>\n",
       "      <td>0.0</td>\n",
       "      <td>0.0</td>\n",
       "      <td>211.350143</td>\n",
       "      <td>8.106</td>\n",
       "      <td>2</td>\n",
       "      <td>3</td>\n",
       "    </tr>\n",
       "  </tbody>\n",
       "</table>\n",
       "</div>"
      ],
      "text/plain": [
       "   Store  Dept  IsHoliday Type    Size  Temperature  Fuel_Price  MarkDown1  \\\n",
       "0      1     1          0    A  151315        42.31       2.572        0.0   \n",
       "1      1     1          1    A  151315        38.51       2.548        0.0   \n",
       "2      1     1          0    A  151315        39.93       2.514        0.0   \n",
       "3      1     1          0    A  151315        46.63       2.561        0.0   \n",
       "4      1     1          0    A  151315        46.50       2.625        0.0   \n",
       "\n",
       "   MarkDown2  MarkDown3  MarkDown4  MarkDown5         CPI  Unemployment  \\\n",
       "0        0.0        0.0        0.0        0.0  211.096358         8.106   \n",
       "1        0.0        0.0        0.0        0.0  211.242170         8.106   \n",
       "2        0.0        0.0        0.0        0.0  211.289143         8.106   \n",
       "3        0.0        0.0        0.0        0.0  211.319643         8.106   \n",
       "4        0.0        0.0        0.0        0.0  211.350143         8.106   \n",
       "\n",
       "   Storesbin  Deptbin  \n",
       "0          2        3  \n",
       "1          2        3  \n",
       "2          2        3  \n",
       "3          2        3  \n",
       "4          2        3  "
      ]
     },
     "execution_count": 25,
     "metadata": {},
     "output_type": "execute_result"
    }
   ],
   "source": [
    "cat['IsHoliday'] = np.where(cat['IsHoliday'] == True, 1, 0) \n",
    "cat.head()"
   ]
  },
  {
   "cell_type": "code",
   "execution_count": 26,
   "metadata": {},
   "outputs": [
    {
     "name": "stderr",
     "output_type": "stream",
     "text": [
      "F:\\Jupiter\\lib\\site-packages\\pandas\\core\\indexing.py:189: SettingWithCopyWarning: \n",
      "A value is trying to be set on a copy of a slice from a DataFrame\n",
      "\n",
      "See the caveats in the documentation: http://pandas.pydata.org/pandas-docs/stable/indexing.html#indexing-view-versus-copy\n",
      "  self._setitem_with_indexer(indexer, value)\n"
     ]
    },
    {
     "data": {
      "text/html": [
       "<div>\n",
       "<style scoped>\n",
       "    .dataframe tbody tr th:only-of-type {\n",
       "        vertical-align: middle;\n",
       "    }\n",
       "\n",
       "    .dataframe tbody tr th {\n",
       "        vertical-align: top;\n",
       "    }\n",
       "\n",
       "    .dataframe thead th {\n",
       "        text-align: right;\n",
       "    }\n",
       "</style>\n",
       "<table border=\"1\" class=\"dataframe\">\n",
       "  <thead>\n",
       "    <tr style=\"text-align: right;\">\n",
       "      <th></th>\n",
       "      <th>Size_0</th>\n",
       "      <th>Size_1</th>\n",
       "      <th>Size_2</th>\n",
       "      <th>Size_3</th>\n",
       "    </tr>\n",
       "  </thead>\n",
       "  <tbody>\n",
       "    <tr>\n",
       "      <th>0</th>\n",
       "      <td>0</td>\n",
       "      <td>0</td>\n",
       "      <td>1</td>\n",
       "      <td>0</td>\n",
       "    </tr>\n",
       "    <tr>\n",
       "      <th>1</th>\n",
       "      <td>0</td>\n",
       "      <td>0</td>\n",
       "      <td>1</td>\n",
       "      <td>0</td>\n",
       "    </tr>\n",
       "    <tr>\n",
       "      <th>2</th>\n",
       "      <td>0</td>\n",
       "      <td>0</td>\n",
       "      <td>1</td>\n",
       "      <td>0</td>\n",
       "    </tr>\n",
       "    <tr>\n",
       "      <th>3</th>\n",
       "      <td>0</td>\n",
       "      <td>0</td>\n",
       "      <td>1</td>\n",
       "      <td>0</td>\n",
       "    </tr>\n",
       "    <tr>\n",
       "      <th>4</th>\n",
       "      <td>0</td>\n",
       "      <td>0</td>\n",
       "      <td>1</td>\n",
       "      <td>0</td>\n",
       "    </tr>\n",
       "  </tbody>\n",
       "</table>\n",
       "</div>"
      ],
      "text/plain": [
       "   Size_0  Size_1  Size_2  Size_3\n",
       "0       0       0       1       0\n",
       "1       0       0       1       0\n",
       "2       0       0       1       0\n",
       "3       0       0       1       0\n",
       "4       0       0       1       0"
      ]
     },
     "execution_count": 26,
     "metadata": {},
     "output_type": "execute_result"
    }
   ],
   "source": [
    "\n",
    "cat['Size'].loc[(cat['Size'] >=0) & (cat['Size'] <75000)] = 0\n",
    "\n",
    "cat['Size'].loc[(cat['Size'] >=75000) & (cat['Size'] <125000)] = 1\n",
    "cat['Size'].loc[(cat['Size'] >=125000) & (cat['Size'] <175000)] = 2\n",
    "cat['Size'].loc[(cat['Size'] >=175000) & (cat['Size'] <225000)] = 3\n",
    "\n",
    "\n",
    "\n",
    "size_one_hot = pd.get_dummies(cat['Size'],prefix='Size')\n",
    "size_one_hot.head()"
   ]
  },
  {
   "cell_type": "code",
   "execution_count": 27,
   "metadata": {},
   "outputs": [
    {
     "data": {
      "text/plain": [
       "0    329024\n",
       "1     92546\n",
       "Name: Size_0, dtype: int64"
      ]
     },
     "execution_count": 27,
     "metadata": {},
     "output_type": "execute_result"
    }
   ],
   "source": [
    "size_one_hot['Size_0'].value_counts()"
   ]
  },
  {
   "cell_type": "code",
   "execution_count": 28,
   "metadata": {},
   "outputs": [
    {
     "data": {
      "text/html": [
       "<div>\n",
       "<style scoped>\n",
       "    .dataframe tbody tr th:only-of-type {\n",
       "        vertical-align: middle;\n",
       "    }\n",
       "\n",
       "    .dataframe tbody tr th {\n",
       "        vertical-align: top;\n",
       "    }\n",
       "\n",
       "    .dataframe thead th {\n",
       "        text-align: right;\n",
       "    }\n",
       "</style>\n",
       "<table border=\"1\" class=\"dataframe\">\n",
       "  <thead>\n",
       "    <tr style=\"text-align: right;\">\n",
       "      <th></th>\n",
       "      <th>Temp_0</th>\n",
       "      <th>Temp_1</th>\n",
       "      <th>Temp_2</th>\n",
       "      <th>Temp_3</th>\n",
       "      <th>Temp_4</th>\n",
       "      <th>Temp_5</th>\n",
       "    </tr>\n",
       "  </thead>\n",
       "  <tbody>\n",
       "    <tr>\n",
       "      <th>0</th>\n",
       "      <td>1</td>\n",
       "      <td>0</td>\n",
       "      <td>0</td>\n",
       "      <td>0</td>\n",
       "      <td>0</td>\n",
       "      <td>0</td>\n",
       "    </tr>\n",
       "    <tr>\n",
       "      <th>1</th>\n",
       "      <td>1</td>\n",
       "      <td>0</td>\n",
       "      <td>0</td>\n",
       "      <td>0</td>\n",
       "      <td>0</td>\n",
       "      <td>0</td>\n",
       "    </tr>\n",
       "    <tr>\n",
       "      <th>2</th>\n",
       "      <td>1</td>\n",
       "      <td>0</td>\n",
       "      <td>0</td>\n",
       "      <td>0</td>\n",
       "      <td>0</td>\n",
       "      <td>0</td>\n",
       "    </tr>\n",
       "    <tr>\n",
       "      <th>3</th>\n",
       "      <td>1</td>\n",
       "      <td>0</td>\n",
       "      <td>0</td>\n",
       "      <td>0</td>\n",
       "      <td>0</td>\n",
       "      <td>0</td>\n",
       "    </tr>\n",
       "    <tr>\n",
       "      <th>4</th>\n",
       "      <td>1</td>\n",
       "      <td>0</td>\n",
       "      <td>0</td>\n",
       "      <td>0</td>\n",
       "      <td>0</td>\n",
       "      <td>0</td>\n",
       "    </tr>\n",
       "  </tbody>\n",
       "</table>\n",
       "</div>"
      ],
      "text/plain": [
       "   Temp_0  Temp_1  Temp_2  Temp_3  Temp_4  Temp_5\n",
       "0       1       0       0       0       0       0\n",
       "1       1       0       0       0       0       0\n",
       "2       1       0       0       0       0       0\n",
       "3       1       0       0       0       0       0\n",
       "4       1       0       0       0       0       0"
      ]
     },
     "execution_count": 28,
     "metadata": {},
     "output_type": "execute_result"
    }
   ],
   "source": [
    "# sns.scatterplot(train['Temperature'],train['Weekly_Sales'])\n",
    "bins=np.linspace(min(train['Temperature']),max(train['Temperature']),7)\n",
    "g={'-20-0','0-20','20-40','40-60','60-80','80-105'}\n",
    "cat['Temperature']=pd.cut(cat['Temperature'],bins,labels=g,include_lowest=True)\n",
    "cat['Temperature'] = cat['Temperature'].map({\"-20-0\":0,\"0-20\":1, \"20-40\":2, \"40-60\":3,\"60-80\":4,\"80-105\":5})\n",
    "temp_one_hot = pd.get_dummies(cat['Temperature'],prefix='Temp')\n",
    "temp_one_hot.head()"
   ]
  },
  {
   "cell_type": "code",
   "execution_count": 29,
   "metadata": {},
   "outputs": [
    {
     "data": {
      "text/html": [
       "<div>\n",
       "<style scoped>\n",
       "    .dataframe tbody tr th:only-of-type {\n",
       "        vertical-align: middle;\n",
       "    }\n",
       "\n",
       "    .dataframe tbody tr th {\n",
       "        vertical-align: top;\n",
       "    }\n",
       "\n",
       "    .dataframe thead th {\n",
       "        text-align: right;\n",
       "    }\n",
       "</style>\n",
       "<table border=\"1\" class=\"dataframe\">\n",
       "  <thead>\n",
       "    <tr style=\"text-align: right;\">\n",
       "      <th></th>\n",
       "      <th>Fuel_Price_0</th>\n",
       "      <th>Fuel_Price_1</th>\n",
       "      <th>Fuel_Price_2</th>\n",
       "      <th>Fuel_Price_3</th>\n",
       "      <th>Fuel_Price_4</th>\n",
       "    </tr>\n",
       "  </thead>\n",
       "  <tbody>\n",
       "    <tr>\n",
       "      <th>0</th>\n",
       "      <td>1</td>\n",
       "      <td>0</td>\n",
       "      <td>0</td>\n",
       "      <td>0</td>\n",
       "      <td>0</td>\n",
       "    </tr>\n",
       "    <tr>\n",
       "      <th>1</th>\n",
       "      <td>1</td>\n",
       "      <td>0</td>\n",
       "      <td>0</td>\n",
       "      <td>0</td>\n",
       "      <td>0</td>\n",
       "    </tr>\n",
       "    <tr>\n",
       "      <th>2</th>\n",
       "      <td>1</td>\n",
       "      <td>0</td>\n",
       "      <td>0</td>\n",
       "      <td>0</td>\n",
       "      <td>0</td>\n",
       "    </tr>\n",
       "    <tr>\n",
       "      <th>3</th>\n",
       "      <td>1</td>\n",
       "      <td>0</td>\n",
       "      <td>0</td>\n",
       "      <td>0</td>\n",
       "      <td>0</td>\n",
       "    </tr>\n",
       "    <tr>\n",
       "      <th>4</th>\n",
       "      <td>1</td>\n",
       "      <td>0</td>\n",
       "      <td>0</td>\n",
       "      <td>0</td>\n",
       "      <td>0</td>\n",
       "    </tr>\n",
       "  </tbody>\n",
       "</table>\n",
       "</div>"
      ],
      "text/plain": [
       "   Fuel_Price_0  Fuel_Price_1  Fuel_Price_2  Fuel_Price_3  Fuel_Price_4\n",
       "0             1             0             0             0             0\n",
       "1             1             0             0             0             0\n",
       "2             1             0             0             0             0\n",
       "3             1             0             0             0             0\n",
       "4             1             0             0             0             0"
      ]
     },
     "execution_count": 29,
     "metadata": {},
     "output_type": "execute_result"
    }
   ],
   "source": [
    "# (cat['Temperature']>50).value_counts()\n",
    "# sns.scatterplot(train['Fuel_Price'],train['Weekly_Sales'])\n",
    "# cat['Temperature'].loc[(cat['Temperature'] >=105)]\n",
    "bins=np.linspace(min(train['Fuel_Price']),max(train['Fuel_Price']),6)\n",
    "g={'2.00-2.50','2.50-3.00','3.00-3.50','3.50-4.00','4.00-4.50'}\n",
    "cat['Fuel_Price']=pd.cut(cat['Fuel_Price'],bins,labels=g,include_lowest=True)\n",
    "cat['Fuel_Price'] = cat['Fuel_Price'].map({\"2.00-2.50\":0,\"2.50-3.00\":1, \"3.00-3.50\":2, \"3.50-4.00\":3,\"4.00-4.50\":4})\n",
    "fuel_one_hot = pd.get_dummies(cat['Fuel_Price'],prefix='Fuel_Price')\n",
    "fuel_one_hot.head()"
   ]
  },
  {
   "cell_type": "code",
   "execution_count": 30,
   "metadata": {},
   "outputs": [
    {
     "data": {
      "text/html": [
       "<div>\n",
       "<style scoped>\n",
       "    .dataframe tbody tr th:only-of-type {\n",
       "        vertical-align: middle;\n",
       "    }\n",
       "\n",
       "    .dataframe tbody tr th {\n",
       "        vertical-align: top;\n",
       "    }\n",
       "\n",
       "    .dataframe thead th {\n",
       "        text-align: right;\n",
       "    }\n",
       "</style>\n",
       "<table border=\"1\" class=\"dataframe\">\n",
       "  <thead>\n",
       "    <tr style=\"text-align: right;\">\n",
       "      <th></th>\n",
       "      <th>MarkDown1_0</th>\n",
       "      <th>MarkDown1_1</th>\n",
       "      <th>MarkDown1_2</th>\n",
       "      <th>MarkDown1_3</th>\n",
       "      <th>MarkDown1_4</th>\n",
       "    </tr>\n",
       "  </thead>\n",
       "  <tbody>\n",
       "    <tr>\n",
       "      <th>0</th>\n",
       "      <td>1</td>\n",
       "      <td>0</td>\n",
       "      <td>0</td>\n",
       "      <td>0</td>\n",
       "      <td>0</td>\n",
       "    </tr>\n",
       "    <tr>\n",
       "      <th>1</th>\n",
       "      <td>1</td>\n",
       "      <td>0</td>\n",
       "      <td>0</td>\n",
       "      <td>0</td>\n",
       "      <td>0</td>\n",
       "    </tr>\n",
       "    <tr>\n",
       "      <th>2</th>\n",
       "      <td>1</td>\n",
       "      <td>0</td>\n",
       "      <td>0</td>\n",
       "      <td>0</td>\n",
       "      <td>0</td>\n",
       "    </tr>\n",
       "    <tr>\n",
       "      <th>3</th>\n",
       "      <td>1</td>\n",
       "      <td>0</td>\n",
       "      <td>0</td>\n",
       "      <td>0</td>\n",
       "      <td>0</td>\n",
       "    </tr>\n",
       "    <tr>\n",
       "      <th>4</th>\n",
       "      <td>1</td>\n",
       "      <td>0</td>\n",
       "      <td>0</td>\n",
       "      <td>0</td>\n",
       "      <td>0</td>\n",
       "    </tr>\n",
       "  </tbody>\n",
       "</table>\n",
       "</div>"
      ],
      "text/plain": [
       "   MarkDown1_0  MarkDown1_1  MarkDown1_2  MarkDown1_3  MarkDown1_4\n",
       "0            1            0            0            0            0\n",
       "1            1            0            0            0            0\n",
       "2            1            0            0            0            0\n",
       "3            1            0            0            0            0\n",
       "4            1            0            0            0            0"
      ]
     },
     "execution_count": 30,
     "metadata": {},
     "output_type": "execute_result"
    }
   ],
   "source": [
    "\n",
    "# cat['MarkDown1'].value_counts()\n",
    "# sns.scatterplot(train['MarkDown1'],train['Weekly_Sales'])\n",
    "bins=np.linspace(min(cat['MarkDown1']),max(cat['MarkDown1']),6)\n",
    "g={'-10-20000','20000-40000','40000-60000','60000-80000','80000-100000'}\n",
    "cat['MarkDown1']=pd.cut(cat['MarkDown1'],bins,labels=g,include_lowest=True)\n",
    "cat['MarkDown1'] = cat['MarkDown1'].map({\"-10-20000\":0,\"20000-40000\":1, \"40000-60000\":2, \"60000-80000\":3,\"80000-100000\":4})\n",
    "mark1_one_hot = pd.get_dummies(cat['MarkDown1'],prefix='MarkDown1')\n",
    "mark1_one_hot.head()"
   ]
  },
  {
   "cell_type": "code",
   "execution_count": 31,
   "metadata": {},
   "outputs": [
    {
     "data": {
      "text/html": [
       "<div>\n",
       "<style scoped>\n",
       "    .dataframe tbody tr th:only-of-type {\n",
       "        vertical-align: middle;\n",
       "    }\n",
       "\n",
       "    .dataframe tbody tr th {\n",
       "        vertical-align: top;\n",
       "    }\n",
       "\n",
       "    .dataframe thead th {\n",
       "        text-align: right;\n",
       "    }\n",
       "</style>\n",
       "<table border=\"1\" class=\"dataframe\">\n",
       "  <thead>\n",
       "    <tr style=\"text-align: right;\">\n",
       "      <th></th>\n",
       "      <th>MarkDown2_0</th>\n",
       "      <th>MarkDown2_1</th>\n",
       "      <th>MarkDown2_2</th>\n",
       "      <th>MarkDown2_3</th>\n",
       "      <th>MarkDown2_4</th>\n",
       "    </tr>\n",
       "  </thead>\n",
       "  <tbody>\n",
       "    <tr>\n",
       "      <th>0</th>\n",
       "      <td>0</td>\n",
       "      <td>0</td>\n",
       "      <td>0</td>\n",
       "      <td>1</td>\n",
       "      <td>0</td>\n",
       "    </tr>\n",
       "    <tr>\n",
       "      <th>1</th>\n",
       "      <td>0</td>\n",
       "      <td>0</td>\n",
       "      <td>0</td>\n",
       "      <td>1</td>\n",
       "      <td>0</td>\n",
       "    </tr>\n",
       "    <tr>\n",
       "      <th>2</th>\n",
       "      <td>0</td>\n",
       "      <td>0</td>\n",
       "      <td>0</td>\n",
       "      <td>1</td>\n",
       "      <td>0</td>\n",
       "    </tr>\n",
       "    <tr>\n",
       "      <th>3</th>\n",
       "      <td>0</td>\n",
       "      <td>0</td>\n",
       "      <td>0</td>\n",
       "      <td>1</td>\n",
       "      <td>0</td>\n",
       "    </tr>\n",
       "    <tr>\n",
       "      <th>4</th>\n",
       "      <td>0</td>\n",
       "      <td>0</td>\n",
       "      <td>0</td>\n",
       "      <td>1</td>\n",
       "      <td>0</td>\n",
       "    </tr>\n",
       "  </tbody>\n",
       "</table>\n",
       "</div>"
      ],
      "text/plain": [
       "   MarkDown2_0  MarkDown2_1  MarkDown2_2  MarkDown2_3  MarkDown2_4\n",
       "0            0            0            0            1            0\n",
       "1            0            0            0            1            0\n",
       "2            0            0            0            1            0\n",
       "3            0            0            0            1            0\n",
       "4            0            0            0            1            0"
      ]
     },
     "execution_count": 31,
     "metadata": {},
     "output_type": "execute_result"
    }
   ],
   "source": [
    "# sns.scatterplot(train['MarkDown2'],train['Weekly_Sales'])\n",
    "bins=np.linspace(min(cat['MarkDown2']),max(cat['MarkDown2']),6)\n",
    "g={'-300-20000','20000-40000','40000-60000','60000-80000','80000-106000'}\n",
    "cat['MarkDown2']=pd.cut(cat['MarkDown2'],bins,labels=g,include_lowest=True)\n",
    "cat['MarkDown2'] = cat['MarkDown2'].map({\"-300-20000\":0,\"20000-40000\":1, \"40000-60000\":2, \"60000-80000\":3,\"80000-106000\":4})\n",
    "mark2_one_hot = pd.get_dummies(cat['MarkDown2'],prefix='MarkDown2')\n",
    "mark2_one_hot.head()"
   ]
  },
  {
   "cell_type": "code",
   "execution_count": 32,
   "metadata": {},
   "outputs": [
    {
     "data": {
      "text/html": [
       "<div>\n",
       "<style scoped>\n",
       "    .dataframe tbody tr th:only-of-type {\n",
       "        vertical-align: middle;\n",
       "    }\n",
       "\n",
       "    .dataframe tbody tr th {\n",
       "        vertical-align: top;\n",
       "    }\n",
       "\n",
       "    .dataframe thead th {\n",
       "        text-align: right;\n",
       "    }\n",
       "</style>\n",
       "<table border=\"1\" class=\"dataframe\">\n",
       "  <thead>\n",
       "    <tr style=\"text-align: right;\">\n",
       "      <th></th>\n",
       "      <th>MarkDown3_0.0</th>\n",
       "      <th>MarkDown3_1.0</th>\n",
       "      <th>MarkDown3_2.0</th>\n",
       "      <th>MarkDown3_3.0</th>\n",
       "      <th>MarkDown3_4.0</th>\n",
       "    </tr>\n",
       "  </thead>\n",
       "  <tbody>\n",
       "    <tr>\n",
       "      <th>0</th>\n",
       "      <td>0</td>\n",
       "      <td>0</td>\n",
       "      <td>0</td>\n",
       "      <td>1</td>\n",
       "      <td>0</td>\n",
       "    </tr>\n",
       "    <tr>\n",
       "      <th>1</th>\n",
       "      <td>0</td>\n",
       "      <td>0</td>\n",
       "      <td>0</td>\n",
       "      <td>1</td>\n",
       "      <td>0</td>\n",
       "    </tr>\n",
       "    <tr>\n",
       "      <th>2</th>\n",
       "      <td>0</td>\n",
       "      <td>0</td>\n",
       "      <td>0</td>\n",
       "      <td>1</td>\n",
       "      <td>0</td>\n",
       "    </tr>\n",
       "    <tr>\n",
       "      <th>3</th>\n",
       "      <td>0</td>\n",
       "      <td>0</td>\n",
       "      <td>0</td>\n",
       "      <td>1</td>\n",
       "      <td>0</td>\n",
       "    </tr>\n",
       "    <tr>\n",
       "      <th>4</th>\n",
       "      <td>0</td>\n",
       "      <td>0</td>\n",
       "      <td>0</td>\n",
       "      <td>1</td>\n",
       "      <td>0</td>\n",
       "    </tr>\n",
       "  </tbody>\n",
       "</table>\n",
       "</div>"
      ],
      "text/plain": [
       "   MarkDown3_0.0  MarkDown3_1.0  MarkDown3_2.0  MarkDown3_3.0  MarkDown3_4.0\n",
       "0              0              0              0              1              0\n",
       "1              0              0              0              1              0\n",
       "2              0              0              0              1              0\n",
       "3              0              0              0              1              0\n",
       "4              0              0              0              1              0"
      ]
     },
     "execution_count": 32,
     "metadata": {},
     "output_type": "execute_result"
    }
   ],
   "source": [
    "# sns.scatterplot(cat['MarkDown3'],num['Weekly_Sales'])\n",
    "ins=np.linspace(min(cat['MarkDown3']),max(cat['MarkDown3']),6)\n",
    "g={'-30-20000','20000-40000','40000-60000','60000-80000','80000-145000'}\n",
    "cat['MarkDown3']=pd.cut(cat['MarkDown3'],bins,labels=g,include_lowest=True)\n",
    "cat['MarkDown3'] = cat['MarkDown3'].map({\"-30-20000\":0,\"20000-40000\":1, \"40000-60000\":2, \"60000-80000\":3,\"80000-145000\":4})\n",
    "mark3_one_hot = pd.get_dummies(cat['MarkDown3'],prefix='MarkDown3')\n",
    "mark3_one_hot.head()"
   ]
  },
  {
   "cell_type": "code",
   "execution_count": 33,
   "metadata": {},
   "outputs": [
    {
     "data": {
      "text/html": [
       "<div>\n",
       "<style scoped>\n",
       "    .dataframe tbody tr th:only-of-type {\n",
       "        vertical-align: middle;\n",
       "    }\n",
       "\n",
       "    .dataframe tbody tr th {\n",
       "        vertical-align: top;\n",
       "    }\n",
       "\n",
       "    .dataframe thead th {\n",
       "        text-align: right;\n",
       "    }\n",
       "</style>\n",
       "<table border=\"1\" class=\"dataframe\">\n",
       "  <thead>\n",
       "    <tr style=\"text-align: right;\">\n",
       "      <th></th>\n",
       "      <th>MarkDown4_0</th>\n",
       "      <th>MarkDown4_1</th>\n",
       "      <th>MarkDown4_2</th>\n",
       "      <th>MarkDown4_3</th>\n",
       "      <th>MarkDown4_4</th>\n",
       "    </tr>\n",
       "  </thead>\n",
       "  <tbody>\n",
       "    <tr>\n",
       "      <th>0</th>\n",
       "      <td>0</td>\n",
       "      <td>0</td>\n",
       "      <td>1</td>\n",
       "      <td>0</td>\n",
       "      <td>0</td>\n",
       "    </tr>\n",
       "    <tr>\n",
       "      <th>1</th>\n",
       "      <td>0</td>\n",
       "      <td>0</td>\n",
       "      <td>1</td>\n",
       "      <td>0</td>\n",
       "      <td>0</td>\n",
       "    </tr>\n",
       "    <tr>\n",
       "      <th>2</th>\n",
       "      <td>0</td>\n",
       "      <td>0</td>\n",
       "      <td>1</td>\n",
       "      <td>0</td>\n",
       "      <td>0</td>\n",
       "    </tr>\n",
       "    <tr>\n",
       "      <th>3</th>\n",
       "      <td>0</td>\n",
       "      <td>0</td>\n",
       "      <td>1</td>\n",
       "      <td>0</td>\n",
       "      <td>0</td>\n",
       "    </tr>\n",
       "    <tr>\n",
       "      <th>4</th>\n",
       "      <td>0</td>\n",
       "      <td>0</td>\n",
       "      <td>1</td>\n",
       "      <td>0</td>\n",
       "      <td>0</td>\n",
       "    </tr>\n",
       "  </tbody>\n",
       "</table>\n",
       "</div>"
      ],
      "text/plain": [
       "   MarkDown4_0  MarkDown4_1  MarkDown4_2  MarkDown4_3  MarkDown4_4\n",
       "0            0            0            1            0            0\n",
       "1            0            0            1            0            0\n",
       "2            0            0            1            0            0\n",
       "3            0            0            1            0            0\n",
       "4            0            0            1            0            0"
      ]
     },
     "execution_count": 33,
     "metadata": {},
     "output_type": "execute_result"
    }
   ],
   "source": [
    "# sns.scatterplot(cat['MarkDown4'],num['Weekly_Sales'])\n",
    "bins=np.linspace(min(cat['MarkDown4']),max(cat['MarkDown4']),6)\n",
    "g={'0-10000','10000-20000','20000-30000','30000-40000','40000-70000'}\n",
    "cat['MarkDown4']=pd.cut(cat['MarkDown4'],bins,labels=g,include_lowest=True)\n",
    "cat['MarkDown4'] = cat['MarkDown4'].map({\"0-10000\":0,\"10000-20000\":1, \"20000-30000\":2, \"30000-40000\":3,\"40000-70000\":4})\n",
    "mark4_one_hot = pd.get_dummies(cat['MarkDown4'],prefix='MarkDown4')\n",
    "mark4_one_hot.head()"
   ]
  },
  {
   "cell_type": "code",
   "execution_count": 34,
   "metadata": {},
   "outputs": [
    {
     "data": {
      "text/html": [
       "<div>\n",
       "<style scoped>\n",
       "    .dataframe tbody tr th:only-of-type {\n",
       "        vertical-align: middle;\n",
       "    }\n",
       "\n",
       "    .dataframe tbody tr th {\n",
       "        vertical-align: top;\n",
       "    }\n",
       "\n",
       "    .dataframe thead th {\n",
       "        text-align: right;\n",
       "    }\n",
       "</style>\n",
       "<table border=\"1\" class=\"dataframe\">\n",
       "  <thead>\n",
       "    <tr style=\"text-align: right;\">\n",
       "      <th></th>\n",
       "      <th>MarkDown5_0</th>\n",
       "      <th>MarkDown5_1</th>\n",
       "      <th>MarkDown5_2</th>\n",
       "      <th>MarkDown5_3</th>\n",
       "      <th>MarkDown5_4</th>\n",
       "    </tr>\n",
       "  </thead>\n",
       "  <tbody>\n",
       "    <tr>\n",
       "      <th>0</th>\n",
       "      <td>0</td>\n",
       "      <td>0</td>\n",
       "      <td>1</td>\n",
       "      <td>0</td>\n",
       "      <td>0</td>\n",
       "    </tr>\n",
       "    <tr>\n",
       "      <th>1</th>\n",
       "      <td>0</td>\n",
       "      <td>0</td>\n",
       "      <td>1</td>\n",
       "      <td>0</td>\n",
       "      <td>0</td>\n",
       "    </tr>\n",
       "    <tr>\n",
       "      <th>2</th>\n",
       "      <td>0</td>\n",
       "      <td>0</td>\n",
       "      <td>1</td>\n",
       "      <td>0</td>\n",
       "      <td>0</td>\n",
       "    </tr>\n",
       "    <tr>\n",
       "      <th>3</th>\n",
       "      <td>0</td>\n",
       "      <td>0</td>\n",
       "      <td>1</td>\n",
       "      <td>0</td>\n",
       "      <td>0</td>\n",
       "    </tr>\n",
       "    <tr>\n",
       "      <th>4</th>\n",
       "      <td>0</td>\n",
       "      <td>0</td>\n",
       "      <td>1</td>\n",
       "      <td>0</td>\n",
       "      <td>0</td>\n",
       "    </tr>\n",
       "  </tbody>\n",
       "</table>\n",
       "</div>"
      ],
      "text/plain": [
       "   MarkDown5_0  MarkDown5_1  MarkDown5_2  MarkDown5_3  MarkDown5_4\n",
       "0            0            0            1            0            0\n",
       "1            0            0            1            0            0\n",
       "2            0            0            1            0            0\n",
       "3            0            0            1            0            0\n",
       "4            0            0            1            0            0"
      ]
     },
     "execution_count": 34,
     "metadata": {},
     "output_type": "execute_result"
    }
   ],
   "source": [
    "# sns.scatterplot(cat['MarkDown4'],num['Weekly_Sales'])\n",
    "bins=np.linspace(min(cat['MarkDown5']),max(cat['MarkDown5']),6)\n",
    "g={'0-10000','10000-20000','20000-30000','30000-40000','40000-110000'}\n",
    "cat['MarkDown5']=pd.cut(cat['MarkDown5'],bins,labels=g,include_lowest=True)\n",
    "cat['MarkDown5'] = cat['MarkDown5'].map({\"0-10000\":0,\"10000-20000\":1, \"20000-30000\":2, \"30000-40000\":3,\"40000-110000\":4})\n",
    "mark5_one_hot = pd.get_dummies(cat['MarkDown5'],prefix='MarkDown5')\n",
    "mark5_one_hot.head()"
   ]
  },
  {
   "cell_type": "code",
   "execution_count": 35,
   "metadata": {},
   "outputs": [
    {
     "data": {
      "text/html": [
       "<div>\n",
       "<style scoped>\n",
       "    .dataframe tbody tr th:only-of-type {\n",
       "        vertical-align: middle;\n",
       "    }\n",
       "\n",
       "    .dataframe tbody tr th {\n",
       "        vertical-align: top;\n",
       "    }\n",
       "\n",
       "    .dataframe thead th {\n",
       "        text-align: right;\n",
       "    }\n",
       "</style>\n",
       "<table border=\"1\" class=\"dataframe\">\n",
       "  <thead>\n",
       "    <tr style=\"text-align: right;\">\n",
       "      <th></th>\n",
       "      <th>CPI_0</th>\n",
       "      <th>CPI_1</th>\n",
       "      <th>CPI_2</th>\n",
       "    </tr>\n",
       "  </thead>\n",
       "  <tbody>\n",
       "    <tr>\n",
       "      <th>0</th>\n",
       "      <td>0</td>\n",
       "      <td>0</td>\n",
       "      <td>1</td>\n",
       "    </tr>\n",
       "    <tr>\n",
       "      <th>1</th>\n",
       "      <td>0</td>\n",
       "      <td>0</td>\n",
       "      <td>1</td>\n",
       "    </tr>\n",
       "    <tr>\n",
       "      <th>2</th>\n",
       "      <td>0</td>\n",
       "      <td>0</td>\n",
       "      <td>1</td>\n",
       "    </tr>\n",
       "    <tr>\n",
       "      <th>3</th>\n",
       "      <td>0</td>\n",
       "      <td>0</td>\n",
       "      <td>1</td>\n",
       "    </tr>\n",
       "    <tr>\n",
       "      <th>4</th>\n",
       "      <td>0</td>\n",
       "      <td>0</td>\n",
       "      <td>1</td>\n",
       "    </tr>\n",
       "  </tbody>\n",
       "</table>\n",
       "</div>"
      ],
      "text/plain": [
       "   CPI_0  CPI_1  CPI_2\n",
       "0      0      0      1\n",
       "1      0      0      1\n",
       "2      0      0      1\n",
       "3      0      0      1\n",
       "4      0      0      1"
      ]
     },
     "execution_count": 35,
     "metadata": {},
     "output_type": "execute_result"
    }
   ],
   "source": [
    "# sns.scatterplot(cat['MarkDown4'],num['Weekly_Sales'])\n",
    "bins=np.linspace(min(cat['CPI']),max(cat['CPI']),4)\n",
    "g={'120-140','140-200','200-300'}\n",
    "cat['CPI']=pd.cut(cat['CPI'],bins,labels=g,include_lowest=True)\n",
    "cat['CPI'] = cat['CPI'].map({\"120-140\":0,\"140-200\":1,\"200-300\":2})\n",
    "cpi_one_hot = pd.get_dummies(cat['CPI'],prefix='CPI')\n",
    "cpi_one_hot.head()"
   ]
  },
  {
   "cell_type": "code",
   "execution_count": 36,
   "metadata": {},
   "outputs": [
    {
     "data": {
      "text/html": [
       "<div>\n",
       "<style scoped>\n",
       "    .dataframe tbody tr th:only-of-type {\n",
       "        vertical-align: middle;\n",
       "    }\n",
       "\n",
       "    .dataframe tbody tr th {\n",
       "        vertical-align: top;\n",
       "    }\n",
       "\n",
       "    .dataframe thead th {\n",
       "        text-align: right;\n",
       "    }\n",
       "</style>\n",
       "<table border=\"1\" class=\"dataframe\">\n",
       "  <thead>\n",
       "    <tr style=\"text-align: right;\">\n",
       "      <th></th>\n",
       "      <th>Unemployment_0</th>\n",
       "      <th>Unemployment_1</th>\n",
       "      <th>Unemployment_2</th>\n",
       "    </tr>\n",
       "  </thead>\n",
       "  <tbody>\n",
       "    <tr>\n",
       "      <th>0</th>\n",
       "      <td>1</td>\n",
       "      <td>0</td>\n",
       "      <td>0</td>\n",
       "    </tr>\n",
       "    <tr>\n",
       "      <th>1</th>\n",
       "      <td>1</td>\n",
       "      <td>0</td>\n",
       "      <td>0</td>\n",
       "    </tr>\n",
       "    <tr>\n",
       "      <th>2</th>\n",
       "      <td>1</td>\n",
       "      <td>0</td>\n",
       "      <td>0</td>\n",
       "    </tr>\n",
       "    <tr>\n",
       "      <th>3</th>\n",
       "      <td>1</td>\n",
       "      <td>0</td>\n",
       "      <td>0</td>\n",
       "    </tr>\n",
       "    <tr>\n",
       "      <th>4</th>\n",
       "      <td>1</td>\n",
       "      <td>0</td>\n",
       "      <td>0</td>\n",
       "    </tr>\n",
       "  </tbody>\n",
       "</table>\n",
       "</div>"
      ],
      "text/plain": [
       "   Unemployment_0  Unemployment_1  Unemployment_2\n",
       "0               1               0               0\n",
       "1               1               0               0\n",
       "2               1               0               0\n",
       "3               1               0               0\n",
       "4               1               0               0"
      ]
     },
     "execution_count": 36,
     "metadata": {},
     "output_type": "execute_result"
    }
   ],
   "source": [
    "# sns.scatterplot(cat['MarkDown4'],num['Weekly_Sales'])\n",
    "bins=np.linspace(min(cat['Unemployment']),max(cat['Unemployment']),4)\n",
    "g={'2-6','6-10','10-15'}\n",
    "cat['Unemployment']=pd.cut(cat['Unemployment'],bins,labels=g,include_lowest=True)\n",
    "cat['Unemployment'] = cat['Unemployment'].map({\"2-6\":0,\"6-10\":1,\"10-15\":2})\n",
    "unemploy_one_hot = pd.get_dummies(cat['Unemployment'],prefix='Unemployment')\n",
    "unemploy_one_hot.head()"
   ]
  },
  {
   "cell_type": "code",
   "execution_count": 37,
   "metadata": {},
   "outputs": [
    {
     "data": {
      "text/html": [
       "<div>\n",
       "<style scoped>\n",
       "    .dataframe tbody tr th:only-of-type {\n",
       "        vertical-align: middle;\n",
       "    }\n",
       "\n",
       "    .dataframe tbody tr th {\n",
       "        vertical-align: top;\n",
       "    }\n",
       "\n",
       "    .dataframe thead th {\n",
       "        text-align: right;\n",
       "    }\n",
       "</style>\n",
       "<table border=\"1\" class=\"dataframe\">\n",
       "  <thead>\n",
       "    <tr style=\"text-align: right;\">\n",
       "      <th></th>\n",
       "      <th>Type_A</th>\n",
       "      <th>Type_B</th>\n",
       "      <th>Type_C</th>\n",
       "    </tr>\n",
       "  </thead>\n",
       "  <tbody>\n",
       "    <tr>\n",
       "      <th>0</th>\n",
       "      <td>1</td>\n",
       "      <td>0</td>\n",
       "      <td>0</td>\n",
       "    </tr>\n",
       "    <tr>\n",
       "      <th>1</th>\n",
       "      <td>1</td>\n",
       "      <td>0</td>\n",
       "      <td>0</td>\n",
       "    </tr>\n",
       "    <tr>\n",
       "      <th>2</th>\n",
       "      <td>1</td>\n",
       "      <td>0</td>\n",
       "      <td>0</td>\n",
       "    </tr>\n",
       "    <tr>\n",
       "      <th>3</th>\n",
       "      <td>1</td>\n",
       "      <td>0</td>\n",
       "      <td>0</td>\n",
       "    </tr>\n",
       "    <tr>\n",
       "      <th>4</th>\n",
       "      <td>1</td>\n",
       "      <td>0</td>\n",
       "      <td>0</td>\n",
       "    </tr>\n",
       "  </tbody>\n",
       "</table>\n",
       "</div>"
      ],
      "text/plain": [
       "   Type_A  Type_B  Type_C\n",
       "0       1       0       0\n",
       "1       1       0       0\n",
       "2       1       0       0\n",
       "3       1       0       0\n",
       "4       1       0       0"
      ]
     },
     "execution_count": 37,
     "metadata": {},
     "output_type": "execute_result"
    }
   ],
   "source": [
    "# cat['Unemployment'] = cat['Unemployment'].map({\"2-6\":0,\"6-10\":1,\"10-15\":2})\n",
    "type_one_hot = pd.get_dummies(cat['Type'],prefix='Type')\n",
    "type_one_hot.head()"
   ]
  },
  {
   "cell_type": "code",
   "execution_count": 43,
   "metadata": {},
   "outputs": [
    {
     "data": {
      "text/html": [
       "<div>\n",
       "<style scoped>\n",
       "    .dataframe tbody tr th:only-of-type {\n",
       "        vertical-align: middle;\n",
       "    }\n",
       "\n",
       "    .dataframe tbody tr th {\n",
       "        vertical-align: top;\n",
       "    }\n",
       "\n",
       "    .dataframe thead th {\n",
       "        text-align: right;\n",
       "    }\n",
       "</style>\n",
       "<table border=\"1\" class=\"dataframe\">\n",
       "  <thead>\n",
       "    <tr style=\"text-align: right;\">\n",
       "      <th></th>\n",
       "      <th>Weekly_Sales</th>\n",
       "      <th>year</th>\n",
       "      <th>month</th>\n",
       "      <th>day</th>\n",
       "      <th>Store_0</th>\n",
       "      <th>Store_1</th>\n",
       "      <th>Store_2</th>\n",
       "      <th>Store_3</th>\n",
       "      <th>Store_4</th>\n",
       "      <th>Dept_0</th>\n",
       "      <th>...</th>\n",
       "      <th>MarkDown5_4</th>\n",
       "      <th>CPI_0</th>\n",
       "      <th>CPI_1</th>\n",
       "      <th>CPI_2</th>\n",
       "      <th>Type_A</th>\n",
       "      <th>Type_B</th>\n",
       "      <th>Type_C</th>\n",
       "      <th>Unemployment_0</th>\n",
       "      <th>Unemployment_1</th>\n",
       "      <th>Unemployment_2</th>\n",
       "    </tr>\n",
       "  </thead>\n",
       "  <tbody>\n",
       "    <tr>\n",
       "      <th>0</th>\n",
       "      <td>24924.50</td>\n",
       "      <td>2010</td>\n",
       "      <td>2</td>\n",
       "      <td>5</td>\n",
       "      <td>0</td>\n",
       "      <td>0</td>\n",
       "      <td>1</td>\n",
       "      <td>0</td>\n",
       "      <td>0</td>\n",
       "      <td>0</td>\n",
       "      <td>...</td>\n",
       "      <td>0</td>\n",
       "      <td>0</td>\n",
       "      <td>0</td>\n",
       "      <td>1</td>\n",
       "      <td>1</td>\n",
       "      <td>0</td>\n",
       "      <td>0</td>\n",
       "      <td>1</td>\n",
       "      <td>0</td>\n",
       "      <td>0</td>\n",
       "    </tr>\n",
       "    <tr>\n",
       "      <th>1</th>\n",
       "      <td>46039.49</td>\n",
       "      <td>2010</td>\n",
       "      <td>2</td>\n",
       "      <td>12</td>\n",
       "      <td>0</td>\n",
       "      <td>0</td>\n",
       "      <td>1</td>\n",
       "      <td>0</td>\n",
       "      <td>0</td>\n",
       "      <td>0</td>\n",
       "      <td>...</td>\n",
       "      <td>0</td>\n",
       "      <td>0</td>\n",
       "      <td>0</td>\n",
       "      <td>1</td>\n",
       "      <td>1</td>\n",
       "      <td>0</td>\n",
       "      <td>0</td>\n",
       "      <td>1</td>\n",
       "      <td>0</td>\n",
       "      <td>0</td>\n",
       "    </tr>\n",
       "    <tr>\n",
       "      <th>2</th>\n",
       "      <td>41595.55</td>\n",
       "      <td>2010</td>\n",
       "      <td>2</td>\n",
       "      <td>19</td>\n",
       "      <td>0</td>\n",
       "      <td>0</td>\n",
       "      <td>1</td>\n",
       "      <td>0</td>\n",
       "      <td>0</td>\n",
       "      <td>0</td>\n",
       "      <td>...</td>\n",
       "      <td>0</td>\n",
       "      <td>0</td>\n",
       "      <td>0</td>\n",
       "      <td>1</td>\n",
       "      <td>1</td>\n",
       "      <td>0</td>\n",
       "      <td>0</td>\n",
       "      <td>1</td>\n",
       "      <td>0</td>\n",
       "      <td>0</td>\n",
       "    </tr>\n",
       "    <tr>\n",
       "      <th>3</th>\n",
       "      <td>19403.54</td>\n",
       "      <td>2010</td>\n",
       "      <td>2</td>\n",
       "      <td>26</td>\n",
       "      <td>0</td>\n",
       "      <td>0</td>\n",
       "      <td>1</td>\n",
       "      <td>0</td>\n",
       "      <td>0</td>\n",
       "      <td>0</td>\n",
       "      <td>...</td>\n",
       "      <td>0</td>\n",
       "      <td>0</td>\n",
       "      <td>0</td>\n",
       "      <td>1</td>\n",
       "      <td>1</td>\n",
       "      <td>0</td>\n",
       "      <td>0</td>\n",
       "      <td>1</td>\n",
       "      <td>0</td>\n",
       "      <td>0</td>\n",
       "    </tr>\n",
       "    <tr>\n",
       "      <th>4</th>\n",
       "      <td>21827.90</td>\n",
       "      <td>2010</td>\n",
       "      <td>3</td>\n",
       "      <td>5</td>\n",
       "      <td>0</td>\n",
       "      <td>0</td>\n",
       "      <td>1</td>\n",
       "      <td>0</td>\n",
       "      <td>0</td>\n",
       "      <td>0</td>\n",
       "      <td>...</td>\n",
       "      <td>0</td>\n",
       "      <td>0</td>\n",
       "      <td>0</td>\n",
       "      <td>1</td>\n",
       "      <td>1</td>\n",
       "      <td>0</td>\n",
       "      <td>0</td>\n",
       "      <td>1</td>\n",
       "      <td>0</td>\n",
       "      <td>0</td>\n",
       "    </tr>\n",
       "  </tbody>\n",
       "</table>\n",
       "<p>5 rows × 64 columns</p>\n",
       "</div>"
      ],
      "text/plain": [
       "   Weekly_Sales  year  month  day  Store_0  Store_1  Store_2  Store_3  \\\n",
       "0      24924.50  2010      2    5        0        0        1        0   \n",
       "1      46039.49  2010      2   12        0        0        1        0   \n",
       "2      41595.55  2010      2   19        0        0        1        0   \n",
       "3      19403.54  2010      2   26        0        0        1        0   \n",
       "4      21827.90  2010      3    5        0        0        1        0   \n",
       "\n",
       "   Store_4  Dept_0       ...        MarkDown5_4  CPI_0  CPI_1  CPI_2  Type_A  \\\n",
       "0        0       0       ...                  0      0      0      1       1   \n",
       "1        0       0       ...                  0      0      0      1       1   \n",
       "2        0       0       ...                  0      0      0      1       1   \n",
       "3        0       0       ...                  0      0      0      1       1   \n",
       "4        0       0       ...                  0      0      0      1       1   \n",
       "\n",
       "   Type_B  Type_C  Unemployment_0  Unemployment_1  Unemployment_2  \n",
       "0       0       0               1               0               0  \n",
       "1       0       0               1               0               0  \n",
       "2       0       0               1               0               0  \n",
       "3       0       0               1               0               0  \n",
       "4       0       0               1               0               0  \n",
       "\n",
       "[5 rows x 64 columns]"
      ]
     },
     "execution_count": 43,
     "metadata": {},
     "output_type": "execute_result"
    }
   ],
   "source": [
    "train_onehot = pd.concat([num,\n",
    "                        store_one_hot, \n",
    "                        dept_one_hot,\n",
    "                        cat['IsHoliday'],\n",
    "                        temp_one_hot,\n",
    "                        size_one_hot,\n",
    "                        fuel_one_hot,\n",
    "                        mark1_one_hot,\n",
    "                        mark2_one_hot,\n",
    "                        mark3_one_hot,\n",
    "                        mark4_one_hot,\n",
    "                        mark5_one_hot,\n",
    "                        cpi_one_hot,\n",
    "                        type_one_hot,  \n",
    "                        unemploy_one_hot   \n",
    "                    \n",
    "\n",
    "                        ], axis=1)\n",
    "train_onehot.head()"
   ]
  },
  {
   "cell_type": "code",
   "execution_count": 44,
   "metadata": {},
   "outputs": [
    {
     "data": {
      "text/plain": [
       "(421570, 64)"
      ]
     },
     "execution_count": 44,
     "metadata": {},
     "output_type": "execute_result"
    }
   ],
   "source": [
    "train_onehot.shape"
   ]
  },
  {
   "cell_type": "code",
   "execution_count": 153,
   "metadata": {},
   "outputs": [],
   "source": [
    "\n",
    "abc=pd.DataFrame()\n",
    "abc=train_onehot"
   ]
  },
  {
   "cell_type": "code",
   "execution_count": 45,
   "metadata": {},
   "outputs": [],
   "source": [
    "# Used to drop columns(Very Imp)\n",
    "# abc.drop[abc['Weekly_Sales'].loc[(abc['Weekly_Sales'] >60000)]]\n",
    "train_onehot.drop(train_onehot[train_onehot['Weekly_Sales'] >60000 ].index, inplace = True) "
   ]
  },
  {
   "cell_type": "code",
   "execution_count": 46,
   "metadata": {},
   "outputs": [
    {
     "data": {
      "text/plain": [
       "Series([], Name: Weekly_Sales, dtype: float64)"
      ]
     },
     "execution_count": 46,
     "metadata": {},
     "output_type": "execute_result"
    }
   ],
   "source": [
    "train_onehot['Weekly_Sales'].loc[(train_onehot['Weekly_Sales'] >60000)]"
   ]
  },
  {
   "cell_type": "code",
   "execution_count": 47,
   "metadata": {},
   "outputs": [
    {
     "data": {
      "text/html": [
       "<div>\n",
       "<style scoped>\n",
       "    .dataframe tbody tr th:only-of-type {\n",
       "        vertical-align: middle;\n",
       "    }\n",
       "\n",
       "    .dataframe tbody tr th {\n",
       "        vertical-align: top;\n",
       "    }\n",
       "\n",
       "    .dataframe thead th {\n",
       "        text-align: right;\n",
       "    }\n",
       "</style>\n",
       "<table border=\"1\" class=\"dataframe\">\n",
       "  <thead>\n",
       "    <tr style=\"text-align: right;\">\n",
       "      <th></th>\n",
       "      <th>year</th>\n",
       "      <th>month</th>\n",
       "      <th>day</th>\n",
       "      <th>Store_0</th>\n",
       "      <th>Store_1</th>\n",
       "      <th>Store_2</th>\n",
       "      <th>Store_3</th>\n",
       "      <th>Store_4</th>\n",
       "      <th>Dept_0</th>\n",
       "      <th>Dept_1</th>\n",
       "      <th>...</th>\n",
       "      <th>MarkDown5_4</th>\n",
       "      <th>CPI_0</th>\n",
       "      <th>CPI_1</th>\n",
       "      <th>CPI_2</th>\n",
       "      <th>Type_A</th>\n",
       "      <th>Type_B</th>\n",
       "      <th>Type_C</th>\n",
       "      <th>Unemployment_0</th>\n",
       "      <th>Unemployment_1</th>\n",
       "      <th>Unemployment_2</th>\n",
       "    </tr>\n",
       "  </thead>\n",
       "  <tbody>\n",
       "    <tr>\n",
       "      <th>0</th>\n",
       "      <td>2010</td>\n",
       "      <td>2</td>\n",
       "      <td>5</td>\n",
       "      <td>0</td>\n",
       "      <td>0</td>\n",
       "      <td>1</td>\n",
       "      <td>0</td>\n",
       "      <td>0</td>\n",
       "      <td>0</td>\n",
       "      <td>0</td>\n",
       "      <td>...</td>\n",
       "      <td>0</td>\n",
       "      <td>0</td>\n",
       "      <td>0</td>\n",
       "      <td>1</td>\n",
       "      <td>1</td>\n",
       "      <td>0</td>\n",
       "      <td>0</td>\n",
       "      <td>1</td>\n",
       "      <td>0</td>\n",
       "      <td>0</td>\n",
       "    </tr>\n",
       "    <tr>\n",
       "      <th>1</th>\n",
       "      <td>2010</td>\n",
       "      <td>2</td>\n",
       "      <td>12</td>\n",
       "      <td>0</td>\n",
       "      <td>0</td>\n",
       "      <td>1</td>\n",
       "      <td>0</td>\n",
       "      <td>0</td>\n",
       "      <td>0</td>\n",
       "      <td>0</td>\n",
       "      <td>...</td>\n",
       "      <td>0</td>\n",
       "      <td>0</td>\n",
       "      <td>0</td>\n",
       "      <td>1</td>\n",
       "      <td>1</td>\n",
       "      <td>0</td>\n",
       "      <td>0</td>\n",
       "      <td>1</td>\n",
       "      <td>0</td>\n",
       "      <td>0</td>\n",
       "    </tr>\n",
       "    <tr>\n",
       "      <th>2</th>\n",
       "      <td>2010</td>\n",
       "      <td>2</td>\n",
       "      <td>19</td>\n",
       "      <td>0</td>\n",
       "      <td>0</td>\n",
       "      <td>1</td>\n",
       "      <td>0</td>\n",
       "      <td>0</td>\n",
       "      <td>0</td>\n",
       "      <td>0</td>\n",
       "      <td>...</td>\n",
       "      <td>0</td>\n",
       "      <td>0</td>\n",
       "      <td>0</td>\n",
       "      <td>1</td>\n",
       "      <td>1</td>\n",
       "      <td>0</td>\n",
       "      <td>0</td>\n",
       "      <td>1</td>\n",
       "      <td>0</td>\n",
       "      <td>0</td>\n",
       "    </tr>\n",
       "    <tr>\n",
       "      <th>3</th>\n",
       "      <td>2010</td>\n",
       "      <td>2</td>\n",
       "      <td>26</td>\n",
       "      <td>0</td>\n",
       "      <td>0</td>\n",
       "      <td>1</td>\n",
       "      <td>0</td>\n",
       "      <td>0</td>\n",
       "      <td>0</td>\n",
       "      <td>0</td>\n",
       "      <td>...</td>\n",
       "      <td>0</td>\n",
       "      <td>0</td>\n",
       "      <td>0</td>\n",
       "      <td>1</td>\n",
       "      <td>1</td>\n",
       "      <td>0</td>\n",
       "      <td>0</td>\n",
       "      <td>1</td>\n",
       "      <td>0</td>\n",
       "      <td>0</td>\n",
       "    </tr>\n",
       "    <tr>\n",
       "      <th>4</th>\n",
       "      <td>2010</td>\n",
       "      <td>3</td>\n",
       "      <td>5</td>\n",
       "      <td>0</td>\n",
       "      <td>0</td>\n",
       "      <td>1</td>\n",
       "      <td>0</td>\n",
       "      <td>0</td>\n",
       "      <td>0</td>\n",
       "      <td>0</td>\n",
       "      <td>...</td>\n",
       "      <td>0</td>\n",
       "      <td>0</td>\n",
       "      <td>0</td>\n",
       "      <td>1</td>\n",
       "      <td>1</td>\n",
       "      <td>0</td>\n",
       "      <td>0</td>\n",
       "      <td>1</td>\n",
       "      <td>0</td>\n",
       "      <td>0</td>\n",
       "    </tr>\n",
       "  </tbody>\n",
       "</table>\n",
       "<p>5 rows × 63 columns</p>\n",
       "</div>"
      ],
      "text/plain": [
       "   year  month  day  Store_0  Store_1  Store_2  Store_3  Store_4  Dept_0  \\\n",
       "0  2010      2    5        0        0        1        0        0       0   \n",
       "1  2010      2   12        0        0        1        0        0       0   \n",
       "2  2010      2   19        0        0        1        0        0       0   \n",
       "3  2010      2   26        0        0        1        0        0       0   \n",
       "4  2010      3    5        0        0        1        0        0       0   \n",
       "\n",
       "   Dept_1       ...        MarkDown5_4  CPI_0  CPI_1  CPI_2  Type_A  Type_B  \\\n",
       "0       0       ...                  0      0      0      1       1       0   \n",
       "1       0       ...                  0      0      0      1       1       0   \n",
       "2       0       ...                  0      0      0      1       1       0   \n",
       "3       0       ...                  0      0      0      1       1       0   \n",
       "4       0       ...                  0      0      0      1       1       0   \n",
       "\n",
       "   Type_C  Unemployment_0  Unemployment_1  Unemployment_2  \n",
       "0       0               1               0               0  \n",
       "1       0               1               0               0  \n",
       "2       0               1               0               0  \n",
       "3       0               1               0               0  \n",
       "4       0               1               0               0  \n",
       "\n",
       "[5 rows x 63 columns]"
      ]
     },
     "execution_count": 47,
     "metadata": {},
     "output_type": "execute_result"
    }
   ],
   "source": [
    "y=train_onehot['Weekly_Sales']\n",
    "train_onehot.drop(['Weekly_Sales'], axis=1,inplace=True)\n",
    "\n",
    "# train_onehot.drop(labels={train_onehot['Weekly_Sales']},axis=1,inplace=True)\n",
    "train_onehot.head()"
   ]
  },
  {
   "cell_type": "code",
   "execution_count": 51,
   "metadata": {},
   "outputs": [
    {
     "data": {
      "text/plain": [
       "(399510, 63)"
      ]
     },
     "execution_count": 51,
     "metadata": {},
     "output_type": "execute_result"
    }
   ],
   "source": [
    "from sklearn.model_selection import train_test_split\n",
    "# X_train,X_test,y_train,y_test=train_test_split(train_onehot,y,test_size=0.20)\n",
    "# X_train=train_onehot\n",
    "train_onehot.shape\n",
    "# y_train=y\n",
    "# y_train.shape"
   ]
  },
  {
   "cell_type": "code",
   "execution_count": 56,
   "metadata": {},
   "outputs": [],
   "source": [
    "from sklearn import model_selection,metrics\n",
    "from sklearn.linear_model import LinearRegression\n",
    "from sklearn.metrics import mean_squared_error\n",
    "from sklearn.tree import DecisionTreeRegressor\n",
    "from sklearn.ensemble import RandomForestRegressor\n",
    "from sklearn.neighbors import KNeighborsRegressor\n",
    "from sklearn.ensemble import GradientBoostingRegressor\n",
    "\n",
    "def ml_fit_algo(algo,X_train,y_train,cv):\n",
    "    model=algo.fit(X_train,y_train)\n",
    "    #one pass\n",
    "    acc=round(model.score(X_train,y_train)*100,2)\n",
    "    # Cross Validation\n",
    "    train_pred=model_selection.cross_val_predict(algo,X_train,y_train,cv=cv,n_jobs=-1)\n",
    "#     model.fit(X_train,y_train)\n",
    "#     model.score(X_train,y_train)\n",
    "    y_pred=model.predict(X_test)\n",
    "    print ('dt error ',mean_squared_error(y_test, y_pred))\n",
    "    print('MAE',metrics.mean_absolute_error(y_test, y_pred))\n",
    "    print('MSE',metrics.mean_squared_error(y_test, y_pred))\n",
    "    print('RMSE',np.sqrt(metrics.mean_squared_error(y_test, y_pred)))\n",
    "    print('R^2 =',metrics.explained_variance_score(y_test, y_pred))\n",
    "#     print(train_pred)\n",
    "#     acc_cv=round(model.score(y_train,train_pred)*100,2)\n",
    "    acc_cv=''    \n",
    "#     acc,acc_cv\n",
    "    return train_pred,acc,acc_cv"
   ]
  },
  {
   "cell_type": "code",
   "execution_count": 77,
   "metadata": {},
   "outputs": [
    {
     "name": "stdout",
     "output_type": "stream",
     "text": [
      "dt error  154168096.2089401\n",
      "MAE 9133.176650100926\n",
      "MSE 154168096.2089401\n",
      "RMSE 12416.44458808318\n",
      "R^2 = 0.15867962536821656\n",
      "Accuracy: 16.01\n",
      "Accuracy CV 10-Fold: \n"
     ]
    }
   ],
   "source": [
    "train_pred_lr, acc_lr, acc_cv_lr = ml_fit_algo(LinearRegression(), \n",
    "                                                               X_train, \n",
    "                                                               y_train, \n",
    "                                                                    10)\n",
    "#log_time = (time.time() - start_time)\n",
    "print(\"Accuracy: %s\" % acc_lr)\n",
    "# print(\"Mean squared error: %.2f\" % np.mean((regressor.predict(X_test) - y_test) ** 2))\n",
    "print(\"Accuracy CV 10-Fold: %s\" % acc_cv_lr)\n",
    "# print(\"Mean squared error: %.2f\" % np.mean((regressor.predict(X_test) - y_test) ** 2))\n",
    "# print('MAE',metrics.mean_absolute_error(y_test, y_pred_rforest))\n",
    "# print('MSE',metrics.mean_squared_error(y_test, y_pred_rforest))\n",
    "# print('RMSE',np.sqrt(metrics.mean_squared_error(y_test, y_pred_rforest)))\n",
    "# print('R^2 =',metrics.explained_variance_score(y_test,y_pred_rforest))"
   ]
  },
  {
   "cell_type": "code",
   "execution_count": 81,
   "metadata": {},
   "outputs": [
    {
     "name": "stdout",
     "output_type": "stream",
     "text": [
      "dt error  164055263.91142324\n",
      "MAE 9221.304120310602\n",
      "MSE 164055263.91142324\n",
      "RMSE 12808.405986360021\n",
      "R^2 = 0.10473167521618354\n",
      "Accuracy: 26.77\n"
     ]
    }
   ],
   "source": [
    "train_pred_dt, acc_dt, acc_cv_dt = ml_fit_algo(DecisionTreeRegressor(), \n",
    "                                                                X_train, \n",
    "                                                                y_train,\n",
    "                                                                10)\n",
    "print(\"Accuracy: %s\" % acc_dt)\n",
    "# print(\"Accuracy CV 10-Fold: %s\" % acc_cv_dt)"
   ]
  },
  {
   "cell_type": "code",
   "execution_count": 74,
   "metadata": {},
   "outputs": [
    {
     "name": "stdout",
     "output_type": "stream",
     "text": [
      "dt error  142764341.00614244\n",
      "MAE 8672.359074578144\n",
      "MSE 142764341.00614244\n",
      "RMSE 11948.403282704448\n",
      "R^2 = 0.2217777164758059\n",
      "Accuracy: 22.16\n"
     ]
    }
   ],
   "source": [
    "train_pred_dt, acc_dt, acc_cv_dt = ml_fit_algo(GradientBoostingRegressor(), \n",
    "                                                                X_train, \n",
    "                                                                y_train,\n",
    "                                                                10)\n",
    "print(\"Accuracy: %s\" % acc_dt)\n",
    "# print(\"Accuracy CV 10-Fold: %s\" % acc_cv_dt)"
   ]
  },
  {
   "cell_type": "code",
   "execution_count": 43,
   "metadata": {},
   "outputs": [
    {
     "name": "stdout",
     "output_type": "stream",
     "text": [
      "Linear Regression Performance\n",
      "MAE 9192.753927813787\n",
      "MSE 156256186.49583405\n",
      "RMSE 12500.247457383955\n",
      "R^2 = 0.1590211495781375\n"
     ]
    },
    {
     "data": {
      "text/html": [
       "<div>\n",
       "<style scoped>\n",
       "    .dataframe tbody tr th:only-of-type {\n",
       "        vertical-align: middle;\n",
       "    }\n",
       "\n",
       "    .dataframe tbody tr th {\n",
       "        vertical-align: top;\n",
       "    }\n",
       "\n",
       "    .dataframe thead th {\n",
       "        text-align: right;\n",
       "    }\n",
       "</style>\n",
       "<table border=\"1\" class=\"dataframe\">\n",
       "  <thead>\n",
       "    <tr style=\"text-align: right;\">\n",
       "      <th></th>\n",
       "      <th>Lasso Coefficients</th>\n",
       "    </tr>\n",
       "  </thead>\n",
       "  <tbody>\n",
       "    <tr>\n",
       "      <th>Dept_2</th>\n",
       "      <td>3499.86</td>\n",
       "    </tr>\n",
       "    <tr>\n",
       "      <th>Dept_3</th>\n",
       "      <td>2681.23</td>\n",
       "    </tr>\n",
       "    <tr>\n",
       "      <th>Size_3</th>\n",
       "      <td>2468.34</td>\n",
       "    </tr>\n",
       "    <tr>\n",
       "      <th>MarkDown2_4</th>\n",
       "      <td>2238.89</td>\n",
       "    </tr>\n",
       "    <tr>\n",
       "      <th>MarkDown1_4</th>\n",
       "      <td>486.40</td>\n",
       "    </tr>\n",
       "    <tr>\n",
       "      <th>Store_1</th>\n",
       "      <td>462.65</td>\n",
       "    </tr>\n",
       "    <tr>\n",
       "      <th>MarkDown4_3</th>\n",
       "      <td>448.48</td>\n",
       "    </tr>\n",
       "    <tr>\n",
       "      <th>MarkDown4_2</th>\n",
       "      <td>427.20</td>\n",
       "    </tr>\n",
       "    <tr>\n",
       "      <th>Store_0</th>\n",
       "      <td>301.49</td>\n",
       "    </tr>\n",
       "    <tr>\n",
       "      <th>Type_C</th>\n",
       "      <td>253.13</td>\n",
       "    </tr>\n",
       "    <tr>\n",
       "      <th>Fuel_Price_4</th>\n",
       "      <td>202.02</td>\n",
       "    </tr>\n",
       "    <tr>\n",
       "      <th>Unemployment_1</th>\n",
       "      <td>115.85</td>\n",
       "    </tr>\n",
       "    <tr>\n",
       "      <th>month</th>\n",
       "      <td>79.17</td>\n",
       "    </tr>\n",
       "    <tr>\n",
       "      <th>Temp_3</th>\n",
       "      <td>60.21</td>\n",
       "    </tr>\n",
       "    <tr>\n",
       "      <th>CPI_1</th>\n",
       "      <td>46.90</td>\n",
       "    </tr>\n",
       "    <tr>\n",
       "      <th>Temp_4</th>\n",
       "      <td>39.31</td>\n",
       "    </tr>\n",
       "    <tr>\n",
       "      <th>Fuel_Price_1</th>\n",
       "      <td>22.05</td>\n",
       "    </tr>\n",
       "    <tr>\n",
       "      <th>MarkDown3_0.0</th>\n",
       "      <td>21.96</td>\n",
       "    </tr>\n",
       "    <tr>\n",
       "      <th>Temp_0</th>\n",
       "      <td>10.34</td>\n",
       "    </tr>\n",
       "    <tr>\n",
       "      <th>IsHoliday</th>\n",
       "      <td>4.77</td>\n",
       "    </tr>\n",
       "    <tr>\n",
       "      <th>MarkDown1_3</th>\n",
       "      <td>0.00</td>\n",
       "    </tr>\n",
       "    <tr>\n",
       "      <th>MarkDown2_1</th>\n",
       "      <td>0.00</td>\n",
       "    </tr>\n",
       "    <tr>\n",
       "      <th>MarkDown1_1</th>\n",
       "      <td>-0.00</td>\n",
       "    </tr>\n",
       "    <tr>\n",
       "      <th>MarkDown4_4</th>\n",
       "      <td>-0.00</td>\n",
       "    </tr>\n",
       "    <tr>\n",
       "      <th>MarkDown2_2</th>\n",
       "      <td>0.00</td>\n",
       "    </tr>\n",
       "    <tr>\n",
       "      <th>MarkDown4_1</th>\n",
       "      <td>-0.00</td>\n",
       "    </tr>\n",
       "    <tr>\n",
       "      <th>MarkDown1_2</th>\n",
       "      <td>-0.00</td>\n",
       "    </tr>\n",
       "    <tr>\n",
       "      <th>MarkDown5_2</th>\n",
       "      <td>0.00</td>\n",
       "    </tr>\n",
       "    <tr>\n",
       "      <th>MarkDown5_0</th>\n",
       "      <td>0.00</td>\n",
       "    </tr>\n",
       "    <tr>\n",
       "      <th>Fuel_Price_0</th>\n",
       "      <td>-0.00</td>\n",
       "    </tr>\n",
       "    <tr>\n",
       "      <th>...</th>\n",
       "      <td>...</td>\n",
       "    </tr>\n",
       "    <tr>\n",
       "      <th>MarkDown5_3</th>\n",
       "      <td>0.00</td>\n",
       "    </tr>\n",
       "    <tr>\n",
       "      <th>CPI_0</th>\n",
       "      <td>0.00</td>\n",
       "    </tr>\n",
       "    <tr>\n",
       "      <th>Dept_1</th>\n",
       "      <td>0.00</td>\n",
       "    </tr>\n",
       "    <tr>\n",
       "      <th>Type_A</th>\n",
       "      <td>-0.00</td>\n",
       "    </tr>\n",
       "    <tr>\n",
       "      <th>Unemployment_0</th>\n",
       "      <td>-0.00</td>\n",
       "    </tr>\n",
       "    <tr>\n",
       "      <th>Store_2</th>\n",
       "      <td>0.00</td>\n",
       "    </tr>\n",
       "    <tr>\n",
       "      <th>MarkDown3_4.0</th>\n",
       "      <td>0.00</td>\n",
       "    </tr>\n",
       "    <tr>\n",
       "      <th>Temp_2</th>\n",
       "      <td>-0.08</td>\n",
       "    </tr>\n",
       "    <tr>\n",
       "      <th>Unemployment_2</th>\n",
       "      <td>-4.86</td>\n",
       "    </tr>\n",
       "    <tr>\n",
       "      <th>day</th>\n",
       "      <td>-5.73</td>\n",
       "    </tr>\n",
       "    <tr>\n",
       "      <th>MarkDown2_0</th>\n",
       "      <td>-26.05</td>\n",
       "    </tr>\n",
       "    <tr>\n",
       "      <th>Fuel_Price_2</th>\n",
       "      <td>-39.28</td>\n",
       "    </tr>\n",
       "    <tr>\n",
       "      <th>Fuel_Price_3</th>\n",
       "      <td>-126.82</td>\n",
       "    </tr>\n",
       "    <tr>\n",
       "      <th>year</th>\n",
       "      <td>-137.39</td>\n",
       "    </tr>\n",
       "    <tr>\n",
       "      <th>MarkDown1_0</th>\n",
       "      <td>-271.50</td>\n",
       "    </tr>\n",
       "    <tr>\n",
       "      <th>Temp_5</th>\n",
       "      <td>-319.99</td>\n",
       "    </tr>\n",
       "    <tr>\n",
       "      <th>MarkDown5_4</th>\n",
       "      <td>-354.03</td>\n",
       "    </tr>\n",
       "    <tr>\n",
       "      <th>CPI_2</th>\n",
       "      <td>-360.69</td>\n",
       "    </tr>\n",
       "    <tr>\n",
       "      <th>MarkDown3_1.0</th>\n",
       "      <td>-437.30</td>\n",
       "    </tr>\n",
       "    <tr>\n",
       "      <th>MarkDown4_0</th>\n",
       "      <td>-480.37</td>\n",
       "    </tr>\n",
       "    <tr>\n",
       "      <th>Temp_1</th>\n",
       "      <td>-495.73</td>\n",
       "    </tr>\n",
       "    <tr>\n",
       "      <th>MarkDown2_3</th>\n",
       "      <td>-711.95</td>\n",
       "    </tr>\n",
       "    <tr>\n",
       "      <th>Size_2</th>\n",
       "      <td>-796.52</td>\n",
       "    </tr>\n",
       "    <tr>\n",
       "      <th>Store_4</th>\n",
       "      <td>-1267.97</td>\n",
       "    </tr>\n",
       "    <tr>\n",
       "      <th>Type_B</th>\n",
       "      <td>-1318.01</td>\n",
       "    </tr>\n",
       "    <tr>\n",
       "      <th>MarkDown3_3.0</th>\n",
       "      <td>-1642.81</td>\n",
       "    </tr>\n",
       "    <tr>\n",
       "      <th>Store_3</th>\n",
       "      <td>-2102.47</td>\n",
       "    </tr>\n",
       "    <tr>\n",
       "      <th>Dept_0</th>\n",
       "      <td>-4032.63</td>\n",
       "    </tr>\n",
       "    <tr>\n",
       "      <th>Size_0</th>\n",
       "      <td>-5995.73</td>\n",
       "    </tr>\n",
       "    <tr>\n",
       "      <th>Dept_4</th>\n",
       "      <td>-8379.88</td>\n",
       "    </tr>\n",
       "  </tbody>\n",
       "</table>\n",
       "<p>63 rows × 1 columns</p>\n",
       "</div>"
      ],
      "text/plain": [
       "                Lasso Coefficients\n",
       "Dept_2                     3499.86\n",
       "Dept_3                     2681.23\n",
       "Size_3                     2468.34\n",
       "MarkDown2_4                2238.89\n",
       "MarkDown1_4                 486.40\n",
       "Store_1                     462.65\n",
       "MarkDown4_3                 448.48\n",
       "MarkDown4_2                 427.20\n",
       "Store_0                     301.49\n",
       "Type_C                      253.13\n",
       "Fuel_Price_4                202.02\n",
       "Unemployment_1              115.85\n",
       "month                        79.17\n",
       "Temp_3                       60.21\n",
       "CPI_1                        46.90\n",
       "Temp_4                       39.31\n",
       "Fuel_Price_1                 22.05\n",
       "MarkDown3_0.0                21.96\n",
       "Temp_0                       10.34\n",
       "IsHoliday                     4.77\n",
       "MarkDown1_3                   0.00\n",
       "MarkDown2_1                   0.00\n",
       "MarkDown1_1                  -0.00\n",
       "MarkDown4_4                  -0.00\n",
       "MarkDown2_2                   0.00\n",
       "MarkDown4_1                  -0.00\n",
       "MarkDown1_2                  -0.00\n",
       "MarkDown5_2                   0.00\n",
       "MarkDown5_0                   0.00\n",
       "Fuel_Price_0                 -0.00\n",
       "...                            ...\n",
       "MarkDown5_3                   0.00\n",
       "CPI_0                         0.00\n",
       "Dept_1                        0.00\n",
       "Type_A                       -0.00\n",
       "Unemployment_0               -0.00\n",
       "Store_2                       0.00\n",
       "MarkDown3_4.0                 0.00\n",
       "Temp_2                       -0.08\n",
       "Unemployment_2               -4.86\n",
       "day                          -5.73\n",
       "MarkDown2_0                 -26.05\n",
       "Fuel_Price_2                -39.28\n",
       "Fuel_Price_3               -126.82\n",
       "year                       -137.39\n",
       "MarkDown1_0                -271.50\n",
       "Temp_5                     -319.99\n",
       "MarkDown5_4                -354.03\n",
       "CPI_2                      -360.69\n",
       "MarkDown3_1.0              -437.30\n",
       "MarkDown4_0                -480.37\n",
       "Temp_1                     -495.73\n",
       "MarkDown2_3                -711.95\n",
       "Size_2                     -796.52\n",
       "Store_4                   -1267.97\n",
       "Type_B                    -1318.01\n",
       "MarkDown3_3.0             -1642.81\n",
       "Store_3                   -2102.47\n",
       "Dept_0                    -4032.63\n",
       "Size_0                    -5995.73\n",
       "Dept_4                    -8379.88\n",
       "\n",
       "[63 rows x 1 columns]"
      ]
     },
     "execution_count": 43,
     "metadata": {},
     "output_type": "execute_result"
    }
   ],
   "source": [
    "from sklearn.linear_model import Lasso\n",
    "\n",
    "# Instantiate object\n",
    "lasso = Lasso()\n",
    "\n",
    "# Fit model to training data\n",
    "lasso = lasso.fit(X_train, y_train)\n",
    "\n",
    "# Predict\n",
    "y_pred_lasso = lasso.predict(X_test)\n",
    "\n",
    "# Score It\n",
    "from sklearn import metrics\n",
    "print('Linear Regression Performance')\n",
    "print('MAE',metrics.mean_absolute_error(y_test, y_pred_lasso))\n",
    "print('MSE',metrics.mean_squared_error(y_test, y_pred_lasso))\n",
    "print('RMSE',np.sqrt(metrics.mean_squared_error(y_test, y_pred_lasso)))\n",
    "print('R^2 =',metrics.explained_variance_score(y_test,y_pred_lasso))\n",
    "\n",
    "# Lasso Coefficients\n",
    "pd.set_option('display.float_format', lambda x: '%.2f' % x)\n",
    "cdf = pd.DataFrame(data = lasso.coef_,index = X_train.columns, columns = ['Lasso Coefficients'])\n",
    "# **RANDOM FOREST**\n",
    "cdf.sort_values(by = 'Lasso Coefficients', ascending = False)"
   ]
  },
  {
   "cell_type": "code",
   "execution_count": 52,
   "metadata": {},
   "outputs": [
    {
     "name": "stderr",
     "output_type": "stream",
     "text": [
      "F:\\Jupiter\\lib\\site-packages\\sklearn\\ensemble\\forest.py:246: FutureWarning: The default value of n_estimators will change from 10 in version 0.20 to 100 in 0.22.\n",
      "  \"10 in version 0.20 to 100 in 0.22.\", FutureWarning)\n"
     ]
    },
    {
     "name": "stdout",
     "output_type": "stream",
     "text": [
      "[5.74795587e-03 2.15539984e-02 1.54245294e-02 1.56610220e-02\n",
      " 4.92322200e-03 4.69632315e-03 1.27742148e-02 1.46857611e-02\n",
      " 2.10963151e-02 2.09038806e-01 1.73892374e-01 1.64748203e-02\n",
      " 6.80572153e-02 3.40398272e-03 2.05663875e-03 3.04370373e-03\n",
      " 2.02621892e-03 1.59270963e-03 2.72633927e-04 2.81785037e-03\n",
      " 1.76678952e-01 2.19754686e-03 2.36487107e-02 8.30931628e-02\n",
      " 3.92513715e-03 6.41100308e-04 2.27398831e-03 1.68928777e-03\n",
      " 1.88012371e-03 4.01782169e-04 6.89428637e-06 1.89902551e-05\n",
      " 3.81353861e-04 6.82686488e-05 1.87085558e-05 3.03839169e-05\n",
      " 1.35748804e-04 2.69598675e-04 1.44714235e-04 6.54337038e-05\n",
      " 1.60904911e-05 7.22382661e-05 4.22083099e-04 1.61822259e-04\n",
      " 7.67134461e-06 1.72143222e-04 2.42880524e-04 6.96628964e-05\n",
      " 3.23142243e-05 2.96556382e-06 1.15549723e-04 2.26962816e-04\n",
      " 8.80432442e-06 1.91282674e-06 1.20436788e-03 1.00022516e-02\n",
      " 6.50427443e-03 2.19588227e-02 4.44727035e-02 8.77347380e-04\n",
      " 6.19774078e-03 7.73121944e-03 2.68798881e-03]\n"
     ]
    },
    {
     "data": {
      "image/png": "[encoded data removed]",
      "text/plain": [
       "<Figure size 1440x720 with 1 Axes>"
      ]
     },
     "metadata": {
      "needs_background": "light"
     },
     "output_type": "display_data"
    }
   ],
   "source": [
    "from sklearn.ensemble import ExtraTreesRegressor\n",
    "import matplotlib.pyplot as plt\n",
    "plt.figure(figsize=(20,10))\n",
    "model = ExtraTreesRegressor()\n",
    "model.fit(train_onehot,y)\n",
    "print(model.feature_importances_) #use inbuilt class feature_importances of tree based classifiers\n",
    "#plot graph of feature importances for better visualization\n",
    "feat_importances = pd.Series(model.feature_importances_, index=train_onehot.columns)\n",
    "feat_importances.nlargest(32).plot(kind='barh')\n",
    "plt.show()"
   ]
  },
  {
   "cell_type": "code",
   "execution_count": 53,
   "metadata": {},
   "outputs": [],
   "source": [
    "# feature_select=pd.DataFrame()\n",
    "feature_select=train_onehot[['Temp_1','Fuel_Price_3','Dept_0','Size_0','Dept_4','Size_3','Dept_1',\n",
    "                        'Type_B','day','month','Type_A','Dept_2','Size_1','Dept_3','Store_0','Store_1','Store_2','CPI_0',\n",
    "                       'Size_2','year','Unemployment_0','Unemployment_2','CPI_2','Store_4','Store_3','IsHoliday','Fuel_Price_0',\n",
    "                       'Temp_5','Temp_3','Fuel_Price_2','Temp_0','Fuel_Price_4']]\n",
    "# z=y_train\n",
    "# y.head()\n"
   ]
  },
  {
   "cell_type": "code",
   "execution_count": 58,
   "metadata": {},
   "outputs": [
    {
     "data": {
      "text/plain": [
       "GradientBoostingRegressor(alpha=0.9, criterion='friedman_mse', init=None,\n",
       "             learning_rate=0.1, loss='ls', max_depth=3, max_features=None,\n",
       "             max_leaf_nodes=None, min_impurity_decrease=0.0,\n",
       "             min_impurity_split=None, min_samples_leaf=1,\n",
       "             min_samples_split=2, min_weight_fraction_leaf=0.0,\n",
       "             n_estimators=150, n_iter_no_change=None, presort='auto',\n",
       "             random_state=None, subsample=1.0, tol=0.0001,\n",
       "             validation_fraction=0.1, verbose=0, warm_start=False)"
      ]
     },
     "execution_count": 58,
     "metadata": {},
     "output_type": "execute_result"
    }
   ],
   "source": [
    "\n",
    "gb=GradientBoostingRegressor(n_estimators=150)\n",
    "gb.fit(feature_select,y)\n",
    "# train_pred_dt, acc_dt, acc_cv_dt = ml_fit_algo(GradientBoostingRegressor(), \n",
    "#                                                                 X_train, \n",
    "#                                                                 y_train,\n",
    "#       10)\n",
    "# print(\"Accuracy: %s\" % acc_dt)\n",
    "# feature_select.shape"
   ]
  },
  {
   "cell_type": "code",
   "execution_count": 64,
   "metadata": {},
   "outputs": [
    {
     "data": {
      "text/plain": [
       "Store               0\n",
       "Dept                0\n",
       "Date                0\n",
       "IsHoliday           0\n",
       "Type                0\n",
       "Size                0\n",
       "Temperature         0\n",
       "Fuel_Price          0\n",
       "MarkDown1         149\n",
       "MarkDown2       28627\n",
       "MarkDown3        9829\n",
       "MarkDown4       12888\n",
       "MarkDown5           0\n",
       "CPI             38162\n",
       "Unemployment    38162\n",
       "dtype: int64"
      ]
     },
     "execution_count": 64,
     "metadata": {},
     "output_type": "execute_result"
    }
   ],
   "source": [
    "\n",
    "test=pd.read_csv('test.csv')\n",
    "test = test.merge(stores, how='left').merge(features, how='left')\n",
    "test_col=pd.DataFrame()\n",
    "\n",
    "test.isnull().sum()"
   ]
  },
  {
   "cell_type": "code",
   "execution_count": 65,
   "metadata": {},
   "outputs": [
    {
     "data": {
      "text/html": [
       "<div>\n",
       "<style scoped>\n",
       "    .dataframe tbody tr th:only-of-type {\n",
       "        vertical-align: middle;\n",
       "    }\n",
       "\n",
       "    .dataframe tbody tr th {\n",
       "        vertical-align: top;\n",
       "    }\n",
       "\n",
       "    .dataframe thead th {\n",
       "        text-align: right;\n",
       "    }\n",
       "</style>\n",
       "<table border=\"1\" class=\"dataframe\">\n",
       "  <thead>\n",
       "    <tr style=\"text-align: right;\">\n",
       "      <th></th>\n",
       "      <th>Fuel_Price_0</th>\n",
       "      <th>Fuel_Price_1</th>\n",
       "      <th>Fuel_Price_2</th>\n",
       "      <th>Fuel_Price_3</th>\n",
       "      <th>Fuel_Price_4</th>\n",
       "    </tr>\n",
       "  </thead>\n",
       "  <tbody>\n",
       "    <tr>\n",
       "      <th>0</th>\n",
       "      <td>0</td>\n",
       "      <td>0</td>\n",
       "      <td>0</td>\n",
       "      <td>0</td>\n",
       "      <td>1</td>\n",
       "    </tr>\n",
       "    <tr>\n",
       "      <th>1</th>\n",
       "      <td>0</td>\n",
       "      <td>0</td>\n",
       "      <td>1</td>\n",
       "      <td>0</td>\n",
       "      <td>0</td>\n",
       "    </tr>\n",
       "    <tr>\n",
       "      <th>2</th>\n",
       "      <td>0</td>\n",
       "      <td>0</td>\n",
       "      <td>1</td>\n",
       "      <td>0</td>\n",
       "      <td>0</td>\n",
       "    </tr>\n",
       "    <tr>\n",
       "      <th>3</th>\n",
       "      <td>0</td>\n",
       "      <td>0</td>\n",
       "      <td>1</td>\n",
       "      <td>0</td>\n",
       "      <td>0</td>\n",
       "    </tr>\n",
       "    <tr>\n",
       "      <th>4</th>\n",
       "      <td>0</td>\n",
       "      <td>0</td>\n",
       "      <td>1</td>\n",
       "      <td>0</td>\n",
       "      <td>0</td>\n",
       "    </tr>\n",
       "  </tbody>\n",
       "</table>\n",
       "</div>"
      ],
      "text/plain": [
       "   Fuel_Price_0  Fuel_Price_1  Fuel_Price_2  Fuel_Price_3  Fuel_Price_4\n",
       "0             0             0             0             0             1\n",
       "1             0             0             1             0             0\n",
       "2             0             0             1             0             0\n",
       "3             0             0             1             0             0\n",
       "4             0             0             1             0             0"
      ]
     },
     "execution_count": 65,
     "metadata": {},
     "output_type": "execute_result"
    }
   ],
   "source": [
    "test_col['Fuel_Price']=test['Fuel_Price']\n",
    "bins=np.linspace(min(test_col['Fuel_Price']),max(test_col['Fuel_Price']),6)\n",
    "g={'2.00-2.50','2.50-3.00','3.00-3.50','3.50-4.00','4.00-4.50'}\n",
    "test_col['Fuel_Price']=pd.cut(test_col['Fuel_Price'],bins,labels=g,include_lowest=True)\n",
    "test_col['Fuel_Price'] = test_col['Fuel_Price'].map({\"2.00-2.50\":0,\"2.50-3.00\":1, \"3.00-3.50\":2, \"3.50-4.00\":3,\"4.00-4.50\":4})\n",
    "test_fuel_one_hot = pd.get_dummies(test_col['Fuel_Price'],prefix='Fuel_Price')\n",
    "test_fuel_one_hot.head()"
   ]
  },
  {
   "cell_type": "code",
   "execution_count": 66,
   "metadata": {},
   "outputs": [
    {
     "data": {
      "text/html": [
       "<div>\n",
       "<style scoped>\n",
       "    .dataframe tbody tr th:only-of-type {\n",
       "        vertical-align: middle;\n",
       "    }\n",
       "\n",
       "    .dataframe tbody tr th {\n",
       "        vertical-align: top;\n",
       "    }\n",
       "\n",
       "    .dataframe thead th {\n",
       "        text-align: right;\n",
       "    }\n",
       "</style>\n",
       "<table border=\"1\" class=\"dataframe\">\n",
       "  <thead>\n",
       "    <tr style=\"text-align: right;\">\n",
       "      <th></th>\n",
       "      <th>Temp_0</th>\n",
       "      <th>Temp_1</th>\n",
       "      <th>Temp_2</th>\n",
       "      <th>Temp_3</th>\n",
       "      <th>Temp_4</th>\n",
       "      <th>Temp_5</th>\n",
       "    </tr>\n",
       "  </thead>\n",
       "  <tbody>\n",
       "    <tr>\n",
       "      <th>0</th>\n",
       "      <td>0</td>\n",
       "      <td>0</td>\n",
       "      <td>0</td>\n",
       "      <td>0</td>\n",
       "      <td>0</td>\n",
       "      <td>1</td>\n",
       "    </tr>\n",
       "    <tr>\n",
       "      <th>1</th>\n",
       "      <td>0</td>\n",
       "      <td>0</td>\n",
       "      <td>0</td>\n",
       "      <td>0</td>\n",
       "      <td>0</td>\n",
       "      <td>1</td>\n",
       "    </tr>\n",
       "    <tr>\n",
       "      <th>2</th>\n",
       "      <td>0</td>\n",
       "      <td>0</td>\n",
       "      <td>0</td>\n",
       "      <td>0</td>\n",
       "      <td>0</td>\n",
       "      <td>1</td>\n",
       "    </tr>\n",
       "    <tr>\n",
       "      <th>3</th>\n",
       "      <td>0</td>\n",
       "      <td>0</td>\n",
       "      <td>0</td>\n",
       "      <td>0</td>\n",
       "      <td>0</td>\n",
       "      <td>1</td>\n",
       "    </tr>\n",
       "    <tr>\n",
       "      <th>4</th>\n",
       "      <td>0</td>\n",
       "      <td>0</td>\n",
       "      <td>0</td>\n",
       "      <td>0</td>\n",
       "      <td>0</td>\n",
       "      <td>1</td>\n",
       "    </tr>\n",
       "  </tbody>\n",
       "</table>\n",
       "</div>"
      ],
      "text/plain": [
       "   Temp_0  Temp_1  Temp_2  Temp_3  Temp_4  Temp_5\n",
       "0       0       0       0       0       0       1\n",
       "1       0       0       0       0       0       1\n",
       "2       0       0       0       0       0       1\n",
       "3       0       0       0       0       0       1\n",
       "4       0       0       0       0       0       1"
      ]
     },
     "execution_count": 66,
     "metadata": {},
     "output_type": "execute_result"
    }
   ],
   "source": [
    "test_col['Temperature']=test['Temperature']\n",
    "\n",
    "bins=np.linspace(min(test_col['Temperature']),max(test_col['Temperature']),7)\n",
    "g={'-20-0','0-20','20-40','40-60','60-80','80-105'}\n",
    "test_col['Temperature']=pd.cut(test_col['Temperature'],bins,labels=g,include_lowest=True)\n",
    "test_col['Temperature'] = test_col['Temperature'].map({\"-20-0\":0,\"0-20\":1, \"20-40\":2, \"40-60\":3,\"60-80\":4,\"80-105\":5})\n",
    "test_temp_one_hot = pd.get_dummies(test_col['Temperature'],prefix='Temp')\n",
    "test_temp_one_hot.head()"
   ]
  },
  {
   "cell_type": "code",
   "execution_count": 67,
   "metadata": {},
   "outputs": [
    {
     "data": {
      "text/html": [
       "<div>\n",
       "<style scoped>\n",
       "    .dataframe tbody tr th:only-of-type {\n",
       "        vertical-align: middle;\n",
       "    }\n",
       "\n",
       "    .dataframe tbody tr th {\n",
       "        vertical-align: top;\n",
       "    }\n",
       "\n",
       "    .dataframe thead th {\n",
       "        text-align: right;\n",
       "    }\n",
       "</style>\n",
       "<table border=\"1\" class=\"dataframe\">\n",
       "  <thead>\n",
       "    <tr style=\"text-align: right;\">\n",
       "      <th></th>\n",
       "      <th>Size_0</th>\n",
       "      <th>Size_1</th>\n",
       "      <th>Size_2</th>\n",
       "      <th>Size_3</th>\n",
       "    </tr>\n",
       "  </thead>\n",
       "  <tbody>\n",
       "    <tr>\n",
       "      <th>0</th>\n",
       "      <td>0</td>\n",
       "      <td>0</td>\n",
       "      <td>1</td>\n",
       "      <td>0</td>\n",
       "    </tr>\n",
       "    <tr>\n",
       "      <th>1</th>\n",
       "      <td>0</td>\n",
       "      <td>0</td>\n",
       "      <td>1</td>\n",
       "      <td>0</td>\n",
       "    </tr>\n",
       "    <tr>\n",
       "      <th>2</th>\n",
       "      <td>0</td>\n",
       "      <td>0</td>\n",
       "      <td>1</td>\n",
       "      <td>0</td>\n",
       "    </tr>\n",
       "    <tr>\n",
       "      <th>3</th>\n",
       "      <td>0</td>\n",
       "      <td>0</td>\n",
       "      <td>1</td>\n",
       "      <td>0</td>\n",
       "    </tr>\n",
       "    <tr>\n",
       "      <th>4</th>\n",
       "      <td>0</td>\n",
       "      <td>0</td>\n",
       "      <td>1</td>\n",
       "      <td>0</td>\n",
       "    </tr>\n",
       "  </tbody>\n",
       "</table>\n",
       "</div>"
      ],
      "text/plain": [
       "   Size_0  Size_1  Size_2  Size_3\n",
       "0       0       0       1       0\n",
       "1       0       0       1       0\n",
       "2       0       0       1       0\n",
       "3       0       0       1       0\n",
       "4       0       0       1       0"
      ]
     },
     "execution_count": 67,
     "metadata": {},
     "output_type": "execute_result"
    }
   ],
   "source": [
    "test_col['Size']=test['Size']\n",
    "\n",
    "test_col['Size'].loc[(test_col['Size'] >=0) & (test_col['Size'] <75000)] = 0\n",
    "\n",
    "test_col['Size'].loc[(test_col['Size'] >=75000) & (test_col['Size'] <125000)] = 1\n",
    "test_col['Size'].loc[(test_col['Size'] >=125000) & (test_col['Size'] <175000)] = 2\n",
    "test_col['Size'].loc[(test_col['Size'] >=175000) & (test_col['Size'] <225000)] = 3\n",
    "\n",
    "\n",
    "# cat['Size'] = cat['Size'].map({\"0-0\":0, \"20-40\":1, \"40-60\":2,\"60-80\":3,\"80-100\":4})\n",
    "# cat['Size'].value_counts()\n",
    "test_size_one_hot = pd.get_dummies(test_col['Size'],prefix='Size')\n",
    "test_size_one_hot.head()"
   ]
  },
  {
   "cell_type": "code",
   "execution_count": 73,
   "metadata": {},
   "outputs": [
    {
     "data": {
      "text/html": [
       "<div>\n",
       "<style scoped>\n",
       "    .dataframe tbody tr th:only-of-type {\n",
       "        vertical-align: middle;\n",
       "    }\n",
       "\n",
       "    .dataframe tbody tr th {\n",
       "        vertical-align: top;\n",
       "    }\n",
       "\n",
       "    .dataframe thead th {\n",
       "        text-align: right;\n",
       "    }\n",
       "</style>\n",
       "<table border=\"1\" class=\"dataframe\">\n",
       "  <thead>\n",
       "    <tr style=\"text-align: right;\">\n",
       "      <th></th>\n",
       "      <th>Unemployment_0</th>\n",
       "      <th>Unemployment_1</th>\n",
       "      <th>Unemployment_2</th>\n",
       "    </tr>\n",
       "  </thead>\n",
       "  <tbody>\n",
       "    <tr>\n",
       "      <th>0</th>\n",
       "      <td>1</td>\n",
       "      <td>0</td>\n",
       "      <td>0</td>\n",
       "    </tr>\n",
       "    <tr>\n",
       "      <th>1</th>\n",
       "      <td>1</td>\n",
       "      <td>0</td>\n",
       "      <td>0</td>\n",
       "    </tr>\n",
       "    <tr>\n",
       "      <th>2</th>\n",
       "      <td>1</td>\n",
       "      <td>0</td>\n",
       "      <td>0</td>\n",
       "    </tr>\n",
       "    <tr>\n",
       "      <th>3</th>\n",
       "      <td>1</td>\n",
       "      <td>0</td>\n",
       "      <td>0</td>\n",
       "    </tr>\n",
       "    <tr>\n",
       "      <th>4</th>\n",
       "      <td>1</td>\n",
       "      <td>0</td>\n",
       "      <td>0</td>\n",
       "    </tr>\n",
       "  </tbody>\n",
       "</table>\n",
       "</div>"
      ],
      "text/plain": [
       "   Unemployment_0  Unemployment_1  Unemployment_2\n",
       "0               1               0               0\n",
       "1               1               0               0\n",
       "2               1               0               0\n",
       "3               1               0               0\n",
       "4               1               0               0"
      ]
     },
     "execution_count": 73,
     "metadata": {},
     "output_type": "execute_result"
    }
   ],
   "source": [
    "test['Unemployment'].fillna((test['Unemployment'].mean()), inplace=True)\n",
    "test_col['Unemployment']=test['Unemployment']\n",
    "bins=np.linspace(min(test_col['Unemployment']),max(test_col['Unemployment']),4)\n",
    "g={'2-6','6-10','10-15'}\n",
    "test_col['Unemployment']=pd.cut(test_col['Unemployment'],bins,labels=g,include_lowest=True)\n",
    "test_col['Unemployment'] = test_col['Unemployment'].map({\"2-6\":0,\"6-10\":1,\"10-15\":2})\n",
    "test_unemploy_one_hot = pd.get_dummies(test_col['Unemployment'],prefix='Unemployment')\n",
    "test_unemploy_one_hot.head()"
   ]
  },
  {
   "cell_type": "code",
   "execution_count": 71,
   "metadata": {},
   "outputs": [
    {
     "data": {
      "text/plain": [
       "0    0\n",
       "1    0\n",
       "2    0\n",
       "3    1\n",
       "4    0\n",
       "Name: IsHoliday, dtype: int32"
      ]
     },
     "execution_count": 71,
     "metadata": {},
     "output_type": "execute_result"
    }
   ],
   "source": [
    "test_col['IsHoliday']=test['IsHoliday']\n",
    "test_col['IsHoliday'] = np.where(test_col['IsHoliday'] == True, 1, 0) \n",
    "\n",
    "\n",
    "\n",
    "\n",
    "\n",
    "\n",
    "col['IsHoliday'].head()"
   ]
  },
  {
   "cell_type": "code",
   "execution_count": 72,
   "metadata": {},
   "outputs": [
    {
     "data": {
      "text/plain": [
       "0    24479\n",
       "3    24395\n",
       "2    23894\n",
       "4    21577\n",
       "1    20719\n",
       "Name: Storesbin, dtype: int64"
      ]
     },
     "execution_count": 72,
     "metadata": {},
     "output_type": "execute_result"
    }
   ],
   "source": [
    "test_col['Store']=test['Store']\n",
    "bins=np.linspace(min(test_col['Store']),max(test_col['Store']),6)\n",
    "g={'0-10','10-20','20-30','30-40','40-50'}\n",
    "test_col['Storesbin']=pd.cut(test_col['Store'],bins,labels=g,include_lowest=True)\n",
    "\n",
    "# cat['Storesbin'] = cat['Storesbin'].replace(['0-10','Sel], 'Pri')\n",
    "# dt_cat[\"workclass\"] = dt_cat[\"workclass\"].replace(['Local-gov','State-gov','Federal-gov'], 'Govt')\n",
    "# dt_cat[\"workclass\"] = dt_cat[\"workclass\"].replace(['Other','Without-pay','Never-worked'], 'Oth')\n",
    "\n",
    "test_col['Storesbin'] = test_col['Storesbin'].map({\"0-10\":0, \"10-20\":1, \"20-30\":2,\"30-40\":3,\"40-50\":4})\n",
    "test_store_one_hot = pd.get_dummies(test_col['Storesbin'],prefix='Store')\n",
    "test_store_one_hot.head()\n",
    "# cat.head()\n",
    "test_col['Storesbin'].value_counts()"
   ]
  },
  {
   "cell_type": "code",
   "execution_count": 75,
   "metadata": {},
   "outputs": [
    {
     "data": {
      "text/html": [
       "<div>\n",
       "<style scoped>\n",
       "    .dataframe tbody tr th:only-of-type {\n",
       "        vertical-align: middle;\n",
       "    }\n",
       "\n",
       "    .dataframe tbody tr th {\n",
       "        vertical-align: top;\n",
       "    }\n",
       "\n",
       "    .dataframe thead th {\n",
       "        text-align: right;\n",
       "    }\n",
       "</style>\n",
       "<table border=\"1\" class=\"dataframe\">\n",
       "  <thead>\n",
       "    <tr style=\"text-align: right;\">\n",
       "      <th></th>\n",
       "      <th>Fuel_Price</th>\n",
       "      <th>Temperature</th>\n",
       "      <th>Size</th>\n",
       "      <th>Unemployment</th>\n",
       "      <th>IsHoliday</th>\n",
       "      <th>Store</th>\n",
       "      <th>Storesbin</th>\n",
       "      <th>year</th>\n",
       "      <th>month</th>\n",
       "      <th>day</th>\n",
       "    </tr>\n",
       "  </thead>\n",
       "  <tbody>\n",
       "    <tr>\n",
       "      <th>0</th>\n",
       "      <td>4</td>\n",
       "      <td>5</td>\n",
       "      <td>2</td>\n",
       "      <td>0</td>\n",
       "      <td>0</td>\n",
       "      <td>1</td>\n",
       "      <td>2</td>\n",
       "      <td>2012</td>\n",
       "      <td>11</td>\n",
       "      <td>2</td>\n",
       "    </tr>\n",
       "    <tr>\n",
       "      <th>1</th>\n",
       "      <td>2</td>\n",
       "      <td>5</td>\n",
       "      <td>2</td>\n",
       "      <td>0</td>\n",
       "      <td>0</td>\n",
       "      <td>1</td>\n",
       "      <td>2</td>\n",
       "      <td>2012</td>\n",
       "      <td>11</td>\n",
       "      <td>9</td>\n",
       "    </tr>\n",
       "    <tr>\n",
       "      <th>2</th>\n",
       "      <td>2</td>\n",
       "      <td>5</td>\n",
       "      <td>2</td>\n",
       "      <td>0</td>\n",
       "      <td>0</td>\n",
       "      <td>1</td>\n",
       "      <td>2</td>\n",
       "      <td>2012</td>\n",
       "      <td>11</td>\n",
       "      <td>16</td>\n",
       "    </tr>\n",
       "    <tr>\n",
       "      <th>3</th>\n",
       "      <td>2</td>\n",
       "      <td>5</td>\n",
       "      <td>2</td>\n",
       "      <td>0</td>\n",
       "      <td>1</td>\n",
       "      <td>1</td>\n",
       "      <td>2</td>\n",
       "      <td>2012</td>\n",
       "      <td>11</td>\n",
       "      <td>23</td>\n",
       "    </tr>\n",
       "    <tr>\n",
       "      <th>4</th>\n",
       "      <td>2</td>\n",
       "      <td>5</td>\n",
       "      <td>2</td>\n",
       "      <td>0</td>\n",
       "      <td>0</td>\n",
       "      <td>1</td>\n",
       "      <td>2</td>\n",
       "      <td>2012</td>\n",
       "      <td>11</td>\n",
       "      <td>30</td>\n",
       "    </tr>\n",
       "  </tbody>\n",
       "</table>\n",
       "</div>"
      ],
      "text/plain": [
       "   Fuel_Price  Temperature  Size  Unemployment  IsHoliday  Store  Storesbin  \\\n",
       "0           4            5     2             0          0      1          2   \n",
       "1           2            5     2             0          0      1          2   \n",
       "2           2            5     2             0          0      1          2   \n",
       "3           2            5     2             0          1      1          2   \n",
       "4           2            5     2             0          0      1          2   \n",
       "\n",
       "   year  month  day  \n",
       "0  2012     11    2  \n",
       "1  2012     11    9  \n",
       "2  2012     11   16  \n",
       "3  2012     11   23  \n",
       "4  2012     11   30  "
      ]
     },
     "execution_count": 75,
     "metadata": {},
     "output_type": "execute_result"
    }
   ],
   "source": [
    "test_col['Date']=test['Date']\n",
    "# \n",
    "cols =  ['Date']\n",
    "#cols =  ['deadline']\n",
    "\n",
    "for col in cols:\n",
    "    test_col[col] = pd.to_datetime(test_col[col])\n",
    "    \n",
    "#     dt_num[col] = pd.to_datetime(test[col])\n",
    "\n",
    "\n",
    "test_col['year'] = test_col[\"Date\"].dt.year\n",
    "test_col['month'] =test_col[\"Date\"].dt.month\n",
    "test_col['day'] = test_col[\"Date\"].dt.day\n",
    "test_col.drop(labels={'Date'},axis=1,inplace=True)\n",
    "test_col.head()\n"
   ]
  },
  {
   "cell_type": "code",
   "execution_count": 76,
   "metadata": {},
   "outputs": [
    {
     "data": {
      "text/html": [
       "<div>\n",
       "<style scoped>\n",
       "    .dataframe tbody tr th:only-of-type {\n",
       "        vertical-align: middle;\n",
       "    }\n",
       "\n",
       "    .dataframe tbody tr th {\n",
       "        vertical-align: top;\n",
       "    }\n",
       "\n",
       "    .dataframe thead th {\n",
       "        text-align: right;\n",
       "    }\n",
       "</style>\n",
       "<table border=\"1\" class=\"dataframe\">\n",
       "  <thead>\n",
       "    <tr style=\"text-align: right;\">\n",
       "      <th></th>\n",
       "      <th>CPI_0</th>\n",
       "      <th>CPI_1</th>\n",
       "      <th>CPI_2</th>\n",
       "    </tr>\n",
       "  </thead>\n",
       "  <tbody>\n",
       "    <tr>\n",
       "      <th>0</th>\n",
       "      <td>0</td>\n",
       "      <td>0</td>\n",
       "      <td>1</td>\n",
       "    </tr>\n",
       "    <tr>\n",
       "      <th>1</th>\n",
       "      <td>0</td>\n",
       "      <td>0</td>\n",
       "      <td>1</td>\n",
       "    </tr>\n",
       "    <tr>\n",
       "      <th>2</th>\n",
       "      <td>0</td>\n",
       "      <td>0</td>\n",
       "      <td>1</td>\n",
       "    </tr>\n",
       "    <tr>\n",
       "      <th>3</th>\n",
       "      <td>0</td>\n",
       "      <td>0</td>\n",
       "      <td>1</td>\n",
       "    </tr>\n",
       "    <tr>\n",
       "      <th>4</th>\n",
       "      <td>0</td>\n",
       "      <td>0</td>\n",
       "      <td>1</td>\n",
       "    </tr>\n",
       "  </tbody>\n",
       "</table>\n",
       "</div>"
      ],
      "text/plain": [
       "   CPI_0  CPI_1  CPI_2\n",
       "0      0      0      1\n",
       "1      0      0      1\n",
       "2      0      0      1\n",
       "3      0      0      1\n",
       "4      0      0      1"
      ]
     },
     "execution_count": 76,
     "metadata": {},
     "output_type": "execute_result"
    }
   ],
   "source": [
    "test['CPI'].fillna((test['CPI'].mean()), inplace=True)\n",
    "test_col['CPI']=test['CPI']\n",
    "bins=np.linspace(min(test_col['CPI']),max(test_col['CPI']),4)\n",
    "g={'120-140','140-200','200-300'}\n",
    "test_col['CPI']=pd.cut(test_col['CPI'],bins,labels=g,include_lowest=True)\n",
    "test_col['CPI'] = test_col['CPI'].map({\"120-140\":0,\"140-200\":1,\"200-300\":2})\n",
    "test_cpi_one_hot = pd.get_dummies(test_col['CPI'],prefix='CPI')\n",
    "test_cpi_one_hot.head()"
   ]
  },
  {
   "cell_type": "code",
   "execution_count": 77,
   "metadata": {},
   "outputs": [
    {
     "data": {
      "text/html": [
       "<div>\n",
       "<style scoped>\n",
       "    .dataframe tbody tr th:only-of-type {\n",
       "        vertical-align: middle;\n",
       "    }\n",
       "\n",
       "    .dataframe tbody tr th {\n",
       "        vertical-align: top;\n",
       "    }\n",
       "\n",
       "    .dataframe thead th {\n",
       "        text-align: right;\n",
       "    }\n",
       "</style>\n",
       "<table border=\"1\" class=\"dataframe\">\n",
       "  <thead>\n",
       "    <tr style=\"text-align: right;\">\n",
       "      <th></th>\n",
       "      <th>Dept_0</th>\n",
       "      <th>Dept_1</th>\n",
       "      <th>Dept_2</th>\n",
       "      <th>Dept_3</th>\n",
       "      <th>Dept_4</th>\n",
       "    </tr>\n",
       "  </thead>\n",
       "  <tbody>\n",
       "    <tr>\n",
       "      <th>0</th>\n",
       "      <td>0</td>\n",
       "      <td>0</td>\n",
       "      <td>0</td>\n",
       "      <td>1</td>\n",
       "      <td>0</td>\n",
       "    </tr>\n",
       "    <tr>\n",
       "      <th>1</th>\n",
       "      <td>0</td>\n",
       "      <td>0</td>\n",
       "      <td>0</td>\n",
       "      <td>1</td>\n",
       "      <td>0</td>\n",
       "    </tr>\n",
       "    <tr>\n",
       "      <th>2</th>\n",
       "      <td>0</td>\n",
       "      <td>0</td>\n",
       "      <td>0</td>\n",
       "      <td>1</td>\n",
       "      <td>0</td>\n",
       "    </tr>\n",
       "    <tr>\n",
       "      <th>3</th>\n",
       "      <td>0</td>\n",
       "      <td>0</td>\n",
       "      <td>0</td>\n",
       "      <td>1</td>\n",
       "      <td>0</td>\n",
       "    </tr>\n",
       "    <tr>\n",
       "      <th>4</th>\n",
       "      <td>0</td>\n",
       "      <td>0</td>\n",
       "      <td>0</td>\n",
       "      <td>1</td>\n",
       "      <td>0</td>\n",
       "    </tr>\n",
       "  </tbody>\n",
       "</table>\n",
       "</div>"
      ],
      "text/plain": [
       "   Dept_0  Dept_1  Dept_2  Dept_3  Dept_4\n",
       "0       0       0       0       1       0\n",
       "1       0       0       0       1       0\n",
       "2       0       0       0       1       0\n",
       "3       0       0       0       1       0\n",
       "4       0       0       0       1       0"
      ]
     },
     "execution_count": 77,
     "metadata": {},
     "output_type": "execute_result"
    }
   ],
   "source": [
    "test_col['Dept']=test['Dept']\n",
    "test_col['Dept'].value_counts()\n",
    "# sns.scatterplot(train['Dept'],train['Weekly_Sales'])\n",
    "bins=np.linspace(min(test_col['Dept']),max(test_col['Dept']),6)\n",
    "g={'0-20','20-40','40-60','60-80','80-100'}\n",
    "test_col['Deptbin']=pd.cut(test_col['Dept'],bins,labels=g,include_lowest=True)\n",
    "test_col['Deptbin'] = test_col['Deptbin'].map({\"0-20\":0, \"20-40\":1, \"40-60\":2,\"60-80\":3,\"80-100\":4})\n",
    "test_dept_one_hot = pd.get_dummies(test_col['Deptbin'],prefix='Dept')\n",
    "test_dept_one_hot.head()"
   ]
  },
  {
   "cell_type": "code",
   "execution_count": 79,
   "metadata": {},
   "outputs": [
    {
     "data": {
      "text/html": [
       "<div>\n",
       "<style scoped>\n",
       "    .dataframe tbody tr th:only-of-type {\n",
       "        vertical-align: middle;\n",
       "    }\n",
       "\n",
       "    .dataframe tbody tr th {\n",
       "        vertical-align: top;\n",
       "    }\n",
       "\n",
       "    .dataframe thead th {\n",
       "        text-align: right;\n",
       "    }\n",
       "</style>\n",
       "<table border=\"1\" class=\"dataframe\">\n",
       "  <thead>\n",
       "    <tr style=\"text-align: right;\">\n",
       "      <th></th>\n",
       "      <th>Type_A</th>\n",
       "      <th>Type_B</th>\n",
       "      <th>Type_C</th>\n",
       "    </tr>\n",
       "  </thead>\n",
       "  <tbody>\n",
       "    <tr>\n",
       "      <th>0</th>\n",
       "      <td>1</td>\n",
       "      <td>0</td>\n",
       "      <td>0</td>\n",
       "    </tr>\n",
       "    <tr>\n",
       "      <th>1</th>\n",
       "      <td>1</td>\n",
       "      <td>0</td>\n",
       "      <td>0</td>\n",
       "    </tr>\n",
       "    <tr>\n",
       "      <th>2</th>\n",
       "      <td>1</td>\n",
       "      <td>0</td>\n",
       "      <td>0</td>\n",
       "    </tr>\n",
       "    <tr>\n",
       "      <th>3</th>\n",
       "      <td>1</td>\n",
       "      <td>0</td>\n",
       "      <td>0</td>\n",
       "    </tr>\n",
       "    <tr>\n",
       "      <th>4</th>\n",
       "      <td>1</td>\n",
       "      <td>0</td>\n",
       "      <td>0</td>\n",
       "    </tr>\n",
       "  </tbody>\n",
       "</table>\n",
       "</div>"
      ],
      "text/plain": [
       "   Type_A  Type_B  Type_C\n",
       "0       1       0       0\n",
       "1       1       0       0\n",
       "2       1       0       0\n",
       "3       1       0       0\n",
       "4       1       0       0"
      ]
     },
     "execution_count": 79,
     "metadata": {},
     "output_type": "execute_result"
    }
   ],
   "source": [
    "test_col['Type']=test['Type']\n",
    "\n",
    "test_type_one_hot = pd.get_dummies(test_col['Type'],prefix='Type')\n",
    "test_type_one_hot.head()"
   ]
  },
  {
   "cell_type": "code",
   "execution_count": 80,
   "metadata": {},
   "outputs": [
    {
     "data": {
      "text/plain": [
       "(115064, 38)"
      ]
     },
     "execution_count": 80,
     "metadata": {},
     "output_type": "execute_result"
    }
   ],
   "source": [
    "test_onehot = pd.concat([test_dept_one_hot,\n",
    "                         test_store_one_hot,\n",
    "                         test_col['IsHoliday'],\n",
    "                         test_col['year'],\n",
    "                         test_col['month'],\n",
    "                         test_col['day'],\n",
    "                         test_fuel_one_hot,\n",
    "                         test_temp_one_hot,\n",
    "                         test_size_one_hot,\n",
    "                         test_unemploy_one_hot,\n",
    "                         test_cpi_one_hot,\n",
    "                         test_type_one_hot\n",
    "                         ], axis=1)\n",
    "test_onehot.shape"
   ]
  },
  {
   "cell_type": "code",
   "execution_count": 81,
   "metadata": {},
   "outputs": [],
   "source": [
    "feature_select_test=test_onehot[['Temp_1','Fuel_Price_3','Dept_0','Size_0','Dept_4','Size_3','Dept_1',\n",
    "                        'Type_B','day','month','Type_A','Dept_2','Size_1','Dept_3','Store_0','Store_1','Store_2','CPI_0',\n",
    "                       'Size_2','year','Unemployment_0','Unemployment_2','CPI_2','Store_4','Store_3','IsHoliday','Fuel_Price_0',\n",
    "                       'Temp_5','Temp_3','Fuel_Price_2','Temp_0','Fuel_Price_4']]"
   ]
  },
  {
   "cell_type": "code",
   "execution_count": 83,
   "metadata": {},
   "outputs": [
    {
     "data": {
      "text/plain": [
       "(115064, 32)"
      ]
     },
     "execution_count": 83,
     "metadata": {},
     "output_type": "execute_result"
    }
   ],
   "source": [
    "feature_select_test.shape"
   ]
  },
  {
   "cell_type": "code",
   "execution_count": 89,
   "metadata": {},
   "outputs": [
    {
     "name": "stdout",
     "output_type": "stream",
     "text": [
      "Linear Regression Performance\n",
      "MAE 9142.644364616526\n",
      "MSE 154252638.08577862\n",
      "RMSE 12419.84855325453\n",
      "R^2 = 0.15602154252192502\n"
     ]
    }
   ],
   "source": [
    "from sklearn.linear_model import Lasso\n",
    "\n",
    "lasso = Lasso()\n",
    "\n",
    "# Fit model to training data\n",
    "lasso = lasso.fit(X_train, y_train)\n",
    "\n",
    "# Predict\n",
    "y_pred_lasso = lasso.predict(X_test)\n",
    "\n",
    "# Score It\n",
    "from sklearn import metrics\n",
    "print('Linear Regression Performance')\n",
    "print('MAE',metrics.mean_absolute_error(y_test, y_pred_lasso))\n",
    "print('MSE',metrics.mean_squared_error(y_test, y_pred_lasso))\n",
    "print('RMSE',np.sqrt(metrics.mean_squared_error(y_test, y_pred_lasso)))\n",
    "print('R^2 =',metrics.explained_variance_score(y_test,y_pred_lasso))\n"
   ]
  },
  {
   "cell_type": "code",
   "execution_count": 94,
   "metadata": {},
   "outputs": [
    {
     "name": "stdout",
     "output_type": "stream",
     "text": [
      "dt error  142211829.36982763\n",
      "MAE 8649.451171012977\n",
      "MSE 142211829.36982763\n",
      "RMSE 11925.260138455162\n",
      "R^2 = 0.22803905948123093\n",
      "Accuracy: 22.73\n"
     ]
    }
   ],
   "source": [
    "train_pred_dt, acc_dt, acc_cv_dt = ml_fit_algo(GradientBoostingRegressor(n_estimators=150), \n",
    "                                                                X_train, \n",
    "                                                                y_train,\n",
    "                                                                10)\n",
    "print(\"Accuracy: %s\" % acc_dt)"
   ]
  },
  {
   "cell_type": "code",
   "execution_count": 104,
   "metadata": {},
   "outputs": [
    {
     "data": {
      "text/html": [
       "<div>\n",
       "<style scoped>\n",
       "    .dataframe tbody tr th:only-of-type {\n",
       "        vertical-align: middle;\n",
       "    }\n",
       "\n",
       "    .dataframe tbody tr th {\n",
       "        vertical-align: top;\n",
       "    }\n",
       "\n",
       "    .dataframe thead th {\n",
       "        text-align: right;\n",
       "    }\n",
       "</style>\n",
       "<table border=\"1\" class=\"dataframe\">\n",
       "  <thead>\n",
       "    <tr style=\"text-align: right;\">\n",
       "      <th></th>\n",
       "      <th>Store</th>\n",
       "      <th>Dept</th>\n",
       "      <th>Date</th>\n",
       "      <th>IsHoliday</th>\n",
       "    </tr>\n",
       "  </thead>\n",
       "  <tbody>\n",
       "    <tr>\n",
       "      <th>0</th>\n",
       "      <td>1</td>\n",
       "      <td>1</td>\n",
       "      <td>2012-11-02</td>\n",
       "      <td>False</td>\n",
       "    </tr>\n",
       "    <tr>\n",
       "      <th>1</th>\n",
       "      <td>1</td>\n",
       "      <td>1</td>\n",
       "      <td>2012-11-09</td>\n",
       "      <td>False</td>\n",
       "    </tr>\n",
       "    <tr>\n",
       "      <th>2</th>\n",
       "      <td>1</td>\n",
       "      <td>1</td>\n",
       "      <td>2012-11-16</td>\n",
       "      <td>False</td>\n",
       "    </tr>\n",
       "    <tr>\n",
       "      <th>3</th>\n",
       "      <td>1</td>\n",
       "      <td>1</td>\n",
       "      <td>2012-11-23</td>\n",
       "      <td>True</td>\n",
       "    </tr>\n",
       "    <tr>\n",
       "      <th>4</th>\n",
       "      <td>1</td>\n",
       "      <td>1</td>\n",
       "      <td>2012-11-30</td>\n",
       "      <td>False</td>\n",
       "    </tr>\n",
       "  </tbody>\n",
       "</table>\n",
       "</div>"
      ],
      "text/plain": [
       "   Store  Dept        Date  IsHoliday\n",
       "0      1     1  2012-11-02      False\n",
       "1      1     1  2012-11-09      False\n",
       "2      1     1  2012-11-16      False\n",
       "3      1     1  2012-11-23       True\n",
       "4      1     1  2012-11-30      False"
      ]
     },
     "execution_count": 104,
     "metadata": {},
     "output_type": "execute_result"
    }
   ],
   "source": []
  },
  {
   "cell_type": "code",
   "execution_count": 105,
   "metadata": {},
   "outputs": [
    {
     "data": {
      "text/html": [
       "<div>\n",
       "<style scoped>\n",
       "    .dataframe tbody tr th:only-of-type {\n",
       "        vertical-align: middle;\n",
       "    }\n",
       "\n",
       "    .dataframe tbody tr th {\n",
       "        vertical-align: top;\n",
       "    }\n",
       "\n",
       "    .dataframe thead th {\n",
       "        text-align: right;\n",
       "    }\n",
       "</style>\n",
       "<table border=\"1\" class=\"dataframe\">\n",
       "  <thead>\n",
       "    <tr style=\"text-align: right;\">\n",
       "      <th></th>\n",
       "      <th>Dept</th>\n",
       "      <th>Store</th>\n",
       "      <th>IsHoliday</th>\n",
       "      <th>year</th>\n",
       "      <th>month</th>\n",
       "      <th>day</th>\n",
       "    </tr>\n",
       "  </thead>\n",
       "  <tbody>\n",
       "    <tr>\n",
       "      <th>0</th>\n",
       "      <td>1</td>\n",
       "      <td>1</td>\n",
       "      <td>False</td>\n",
       "      <td>2012</td>\n",
       "      <td>11</td>\n",
       "      <td>2</td>\n",
       "    </tr>\n",
       "    <tr>\n",
       "      <th>1</th>\n",
       "      <td>1</td>\n",
       "      <td>1</td>\n",
       "      <td>False</td>\n",
       "      <td>2012</td>\n",
       "      <td>11</td>\n",
       "      <td>9</td>\n",
       "    </tr>\n",
       "    <tr>\n",
       "      <th>2</th>\n",
       "      <td>1</td>\n",
       "      <td>1</td>\n",
       "      <td>False</td>\n",
       "      <td>2012</td>\n",
       "      <td>11</td>\n",
       "      <td>16</td>\n",
       "    </tr>\n",
       "    <tr>\n",
       "      <th>3</th>\n",
       "      <td>1</td>\n",
       "      <td>1</td>\n",
       "      <td>True</td>\n",
       "      <td>2012</td>\n",
       "      <td>11</td>\n",
       "      <td>23</td>\n",
       "    </tr>\n",
       "    <tr>\n",
       "      <th>4</th>\n",
       "      <td>1</td>\n",
       "      <td>1</td>\n",
       "      <td>False</td>\n",
       "      <td>2012</td>\n",
       "      <td>11</td>\n",
       "      <td>30</td>\n",
       "    </tr>\n",
       "  </tbody>\n",
       "</table>\n",
       "</div>"
      ],
      "text/plain": [
       "   Dept  Store  IsHoliday  year  month  day\n",
       "0     1      1      False  2012     11    2\n",
       "1     1      1      False  2012     11    9\n",
       "2     1      1      False  2012     11   16\n",
       "3     1      1       True  2012     11   23\n",
       "4     1      1      False  2012     11   30"
      ]
     },
     "execution_count": 105,
     "metadata": {},
     "output_type": "execute_result"
    }
   ],
   "source": [
    "cols =  ['Date']\n",
    "#cols =  ['deadline']\n",
    "\n",
    "for col in cols:\n",
    "    test_col[col] = pd.to_datetime(test_col[col])\n",
    "    \n",
    "#     dt_num[col] = pd.to_datetime(test[col])\n",
    "\n",
    "\n",
    "test_col['year'] = test_col[\"Date\"].dt.year\n",
    "test_col['month'] =test_col[\"Date\"].dt.month\n",
    "test_col['day'] = test_col[\"Date\"].dt.day\n",
    "test_col.drop(labels={'Date'},axis=1,inplace=True)\n",
    "test_col.head()\n"
   ]
  },
  {
   "cell_type": "code",
   "execution_count": 106,
   "metadata": {},
   "outputs": [
    {
     "data": {
      "text/plain": [
       "0    24479\n",
       "1    24395\n",
       "4    23894\n",
       "2    21577\n",
       "3    20719\n",
       "Name: Storesbin, dtype: int64"
      ]
     },
     "execution_count": 106,
     "metadata": {},
     "output_type": "execute_result"
    }
   ],
   "source": [
    "bins=np.linspace(min(test_col['Store']),max(test_col['Store']),6)\n",
    "g={'0-10','10-20','20-30','30-40','40-50'}\n",
    "test_col['Storesbin']=pd.cut(test_col['Store'],bins,labels=g,include_lowest=True)\n",
    "\n",
    "# cat['Storesbin'] = cat['Storesbin'].replace(['0-10','Sel], 'Pri')\n",
    "# dt_cat[\"workclass\"] = dt_cat[\"workclass\"].replace(['Local-gov','State-gov','Federal-gov'], 'Govt')\n",
    "# dt_cat[\"workclass\"] = dt_cat[\"workclass\"].replace(['Other','Without-pay','Never-worked'], 'Oth')\n",
    "\n",
    "test_col['Storesbin'] = test_col['Storesbin'].map({\"0-10\":0, \"10-20\":1, \"20-30\":2,\"30-40\":3,\"40-50\":4})\n",
    "test_store_one_hot = pd.get_dummies(test_col['Storesbin'],prefix='Store')\n",
    "test_store_one_hot.head()\n",
    "# cat.head()\n",
    "test_col['Storesbin'].value_counts()"
   ]
  },
  {
   "cell_type": "code",
   "execution_count": 107,
   "metadata": {},
   "outputs": [
    {
     "data": {
      "text/html": [
       "<div>\n",
       "<style scoped>\n",
       "    .dataframe tbody tr th:only-of-type {\n",
       "        vertical-align: middle;\n",
       "    }\n",
       "\n",
       "    .dataframe tbody tr th {\n",
       "        vertical-align: top;\n",
       "    }\n",
       "\n",
       "    .dataframe thead th {\n",
       "        text-align: right;\n",
       "    }\n",
       "</style>\n",
       "<table border=\"1\" class=\"dataframe\">\n",
       "  <thead>\n",
       "    <tr style=\"text-align: right;\">\n",
       "      <th></th>\n",
       "      <th>Dept_0</th>\n",
       "      <th>Dept_1</th>\n",
       "      <th>Dept_2</th>\n",
       "      <th>Dept_3</th>\n",
       "      <th>Dept_4</th>\n",
       "    </tr>\n",
       "  </thead>\n",
       "  <tbody>\n",
       "    <tr>\n",
       "      <th>0</th>\n",
       "      <td>0</td>\n",
       "      <td>0</td>\n",
       "      <td>0</td>\n",
       "      <td>1</td>\n",
       "      <td>0</td>\n",
       "    </tr>\n",
       "    <tr>\n",
       "      <th>1</th>\n",
       "      <td>0</td>\n",
       "      <td>0</td>\n",
       "      <td>0</td>\n",
       "      <td>1</td>\n",
       "      <td>0</td>\n",
       "    </tr>\n",
       "    <tr>\n",
       "      <th>2</th>\n",
       "      <td>0</td>\n",
       "      <td>0</td>\n",
       "      <td>0</td>\n",
       "      <td>1</td>\n",
       "      <td>0</td>\n",
       "    </tr>\n",
       "    <tr>\n",
       "      <th>3</th>\n",
       "      <td>0</td>\n",
       "      <td>0</td>\n",
       "      <td>0</td>\n",
       "      <td>1</td>\n",
       "      <td>0</td>\n",
       "    </tr>\n",
       "    <tr>\n",
       "      <th>4</th>\n",
       "      <td>0</td>\n",
       "      <td>0</td>\n",
       "      <td>0</td>\n",
       "      <td>1</td>\n",
       "      <td>0</td>\n",
       "    </tr>\n",
       "  </tbody>\n",
       "</table>\n",
       "</div>"
      ],
      "text/plain": [
       "   Dept_0  Dept_1  Dept_2  Dept_3  Dept_4\n",
       "0       0       0       0       1       0\n",
       "1       0       0       0       1       0\n",
       "2       0       0       0       1       0\n",
       "3       0       0       0       1       0\n",
       "4       0       0       0       1       0"
      ]
     },
     "execution_count": 107,
     "metadata": {},
     "output_type": "execute_result"
    }
   ],
   "source": [
    "test_col['Dept'].value_counts()\n",
    "# sns.scatterplot(train['Dept'],train['Weekly_Sales'])\n",
    "bins=np.linspace(min(test_col['Dept']),max(test_col['Dept']),6)\n",
    "g={'0-20','20-40','40-60','60-80','80-100'}\n",
    "test_col['Deptbin']=pd.cut(test_col['Dept'],bins,labels=g,include_lowest=True)\n",
    "test_col['Deptbin'] = test_col['Deptbin'].map({\"0-20\":0, \"20-40\":1, \"40-60\":2,\"60-80\":3,\"80-100\":4})\n",
    "test_dept_one_hot = pd.get_dummies(test_col['Deptbin'],prefix='Dept')\n",
    "test_dept_one_hot.head()\n",
    "# train.shape"
   ]
  },
  {
   "cell_type": "code",
   "execution_count": 108,
   "metadata": {},
   "outputs": [
    {
     "data": {
      "text/html": [
       "<div>\n",
       "<style scoped>\n",
       "    .dataframe tbody tr th:only-of-type {\n",
       "        vertical-align: middle;\n",
       "    }\n",
       "\n",
       "    .dataframe tbody tr th {\n",
       "        vertical-align: top;\n",
       "    }\n",
       "\n",
       "    .dataframe thead th {\n",
       "        text-align: right;\n",
       "    }\n",
       "</style>\n",
       "<table border=\"1\" class=\"dataframe\">\n",
       "  <thead>\n",
       "    <tr style=\"text-align: right;\">\n",
       "      <th></th>\n",
       "      <th>Dept</th>\n",
       "      <th>Store</th>\n",
       "      <th>IsHoliday</th>\n",
       "      <th>year</th>\n",
       "      <th>month</th>\n",
       "      <th>day</th>\n",
       "      <th>Storesbin</th>\n",
       "      <th>Deptbin</th>\n",
       "    </tr>\n",
       "  </thead>\n",
       "  <tbody>\n",
       "    <tr>\n",
       "      <th>0</th>\n",
       "      <td>1</td>\n",
       "      <td>1</td>\n",
       "      <td>0</td>\n",
       "      <td>2012</td>\n",
       "      <td>11</td>\n",
       "      <td>2</td>\n",
       "      <td>4</td>\n",
       "      <td>3</td>\n",
       "    </tr>\n",
       "    <tr>\n",
       "      <th>1</th>\n",
       "      <td>1</td>\n",
       "      <td>1</td>\n",
       "      <td>0</td>\n",
       "      <td>2012</td>\n",
       "      <td>11</td>\n",
       "      <td>9</td>\n",
       "      <td>4</td>\n",
       "      <td>3</td>\n",
       "    </tr>\n",
       "    <tr>\n",
       "      <th>2</th>\n",
       "      <td>1</td>\n",
       "      <td>1</td>\n",
       "      <td>0</td>\n",
       "      <td>2012</td>\n",
       "      <td>11</td>\n",
       "      <td>16</td>\n",
       "      <td>4</td>\n",
       "      <td>3</td>\n",
       "    </tr>\n",
       "    <tr>\n",
       "      <th>3</th>\n",
       "      <td>1</td>\n",
       "      <td>1</td>\n",
       "      <td>1</td>\n",
       "      <td>2012</td>\n",
       "      <td>11</td>\n",
       "      <td>23</td>\n",
       "      <td>4</td>\n",
       "      <td>3</td>\n",
       "    </tr>\n",
       "    <tr>\n",
       "      <th>4</th>\n",
       "      <td>1</td>\n",
       "      <td>1</td>\n",
       "      <td>0</td>\n",
       "      <td>2012</td>\n",
       "      <td>11</td>\n",
       "      <td>30</td>\n",
       "      <td>4</td>\n",
       "      <td>3</td>\n",
       "    </tr>\n",
       "  </tbody>\n",
       "</table>\n",
       "</div>"
      ],
      "text/plain": [
       "   Dept  Store  IsHoliday  year  month  day  Storesbin  Deptbin\n",
       "0     1      1          0  2012     11    2          4        3\n",
       "1     1      1          0  2012     11    9          4        3\n",
       "2     1      1          0  2012     11   16          4        3\n",
       "3     1      1          1  2012     11   23          4        3\n",
       "4     1      1          0  2012     11   30          4        3"
      ]
     },
     "execution_count": 108,
     "metadata": {},
     "output_type": "execute_result"
    }
   ],
   "source": [
    "test_col['IsHoliday'] = np.where(test_col['IsHoliday'] == True, 1, 0) \n",
    "test_col.head()"
   ]
  },
  {
   "cell_type": "code",
   "execution_count": 183,
   "metadata": {},
   "outputs": [
    {
     "data": {
      "text/plain": [
       "(115064, 14)"
      ]
     },
     "execution_count": 183,
     "metadata": {},
     "output_type": "execute_result"
    }
   ],
   "source": [
    "test_onehot = pd.concat([test_dept_one_hot,\n",
    "                         test_store_one_hot,\n",
    "                         test_col['IsHoliday'],\n",
    "                         test_col['year'],\n",
    "                         test_col['month'],\n",
    "                         test_col['day'],\n",
    "                         ], axis=1)\n",
    "test_onehot.shape"
   ]
  },
  {
   "cell_type": "code",
   "execution_count": 84,
   "metadata": {},
   "outputs": [
    {
     "data": {
      "text/plain": [
       "array([18301.90362474, 18242.8834246 , 18180.30848576, ...,\n",
       "       11839.18395517, 11719.24803208, 11719.24803208])"
      ]
     },
     "execution_count": 84,
     "metadata": {},
     "output_type": "execute_result"
    }
   ],
   "source": [
    "predictions=gb.predict(feature_select_test)\n",
    "predictions"
   ]
  },
  {
   "cell_type": "code",
   "execution_count": 85,
   "metadata": {},
   "outputs": [
    {
     "data": {
      "text/html": [
       "<div>\n",
       "<style scoped>\n",
       "    .dataframe tbody tr th:only-of-type {\n",
       "        vertical-align: middle;\n",
       "    }\n",
       "\n",
       "    .dataframe tbody tr th {\n",
       "        vertical-align: top;\n",
       "    }\n",
       "\n",
       "    .dataframe thead th {\n",
       "        text-align: right;\n",
       "    }\n",
       "</style>\n",
       "<table border=\"1\" class=\"dataframe\">\n",
       "  <thead>\n",
       "    <tr style=\"text-align: right;\">\n",
       "      <th></th>\n",
       "      <th>Id</th>\n",
       "      <th>Weekly_Sales</th>\n",
       "    </tr>\n",
       "  </thead>\n",
       "  <tbody>\n",
       "    <tr>\n",
       "      <th>0</th>\n",
       "      <td>1_1_2012-11-02</td>\n",
       "      <td>18301.903625</td>\n",
       "    </tr>\n",
       "    <tr>\n",
       "      <th>1</th>\n",
       "      <td>1_1_2012-11-09</td>\n",
       "      <td>18242.883425</td>\n",
       "    </tr>\n",
       "    <tr>\n",
       "      <th>2</th>\n",
       "      <td>1_1_2012-11-16</td>\n",
       "      <td>18180.308486</td>\n",
       "    </tr>\n",
       "    <tr>\n",
       "      <th>3</th>\n",
       "      <td>1_1_2012-11-23</td>\n",
       "      <td>19327.134100</td>\n",
       "    </tr>\n",
       "    <tr>\n",
       "      <th>4</th>\n",
       "      <td>1_1_2012-11-30</td>\n",
       "      <td>18101.185125</td>\n",
       "    </tr>\n",
       "  </tbody>\n",
       "</table>\n",
       "</div>"
      ],
      "text/plain": [
       "               Id  Weekly_Sales\n",
       "0  1_1_2012-11-02  18301.903625\n",
       "1  1_1_2012-11-09  18242.883425\n",
       "2  1_1_2012-11-16  18180.308486\n",
       "3  1_1_2012-11-23  19327.134100\n",
       "4  1_1_2012-11-30  18101.185125"
      ]
     },
     "execution_count": 85,
     "metadata": {},
     "output_type": "execute_result"
    }
   ],
   "source": [
    "dataset_test=pd.DataFrame()\n",
    "dataset_test['Id'] = test['Store'].astype(str) + '_' +  test['Dept'].astype(str) + '_' +  test['Date'].astype(str)\n",
    "dataset_test['Weekly_Sales']=predictions\n",
    "dataset_test.head()"
   ]
  },
  {
   "cell_type": "code",
   "execution_count": 86,
   "metadata": {},
   "outputs": [],
   "source": [
    "dataset_test.to_csv('submit.csv', index=False)"
   ]
  },
  {
   "cell_type": "code",
   "execution_count": 87,
   "metadata": {},
   "outputs": [
    {
     "data": {
      "text/html": [
       "<div>\n",
       "<style scoped>\n",
       "    .dataframe tbody tr th:only-of-type {\n",
       "        vertical-align: middle;\n",
       "    }\n",
       "\n",
       "    .dataframe tbody tr th {\n",
       "        vertical-align: top;\n",
       "    }\n",
       "\n",
       "    .dataframe thead th {\n",
       "        text-align: right;\n",
       "    }\n",
       "</style>\n",
       "<table border=\"1\" class=\"dataframe\">\n",
       "  <thead>\n",
       "    <tr style=\"text-align: right;\">\n",
       "      <th></th>\n",
       "      <th>Id</th>\n",
       "      <th>Weekly_Sales</th>\n",
       "    </tr>\n",
       "  </thead>\n",
       "  <tbody>\n",
       "    <tr>\n",
       "      <th>0</th>\n",
       "      <td>1_1_2012-11-02</td>\n",
       "      <td>18301.903625</td>\n",
       "    </tr>\n",
       "    <tr>\n",
       "      <th>1</th>\n",
       "      <td>1_1_2012-11-09</td>\n",
       "      <td>18242.883425</td>\n",
       "    </tr>\n",
       "    <tr>\n",
       "      <th>2</th>\n",
       "      <td>1_1_2012-11-16</td>\n",
       "      <td>18180.308486</td>\n",
       "    </tr>\n",
       "    <tr>\n",
       "      <th>3</th>\n",
       "      <td>1_1_2012-11-23</td>\n",
       "      <td>19327.134100</td>\n",
       "    </tr>\n",
       "    <tr>\n",
       "      <th>4</th>\n",
       "      <td>1_1_2012-11-30</td>\n",
       "      <td>18101.185125</td>\n",
       "    </tr>\n",
       "  </tbody>\n",
       "</table>\n",
       "</div>"
      ],
      "text/plain": [
       "               Id  Weekly_Sales\n",
       "0  1_1_2012-11-02  18301.903625\n",
       "1  1_1_2012-11-09  18242.883425\n",
       "2  1_1_2012-11-16  18180.308486\n",
       "3  1_1_2012-11-23  19327.134100\n",
       "4  1_1_2012-11-30  18101.185125"
      ]
     },
     "execution_count": 87,
     "metadata": {},
     "output_type": "execute_result"
    }
   ],
   "source": [
    "data=pd.read_csv('submit.csv')\n",
    "data.head()"
   ]
  }
 ],
 "metadata": {
  "kernelspec": {
   "display_name": "Python 3",
   "language": "python",
   "name": "python3"
  },
  "language_info": {
   "codemirror_mode": {
    "name": "ipython",
    "version": 3
   },
   "file_extension": ".py",
   "mimetype": "text/x-python",
   "name": "python",
   "nbconvert_exporter": "python",
   "pygments_lexer": "ipython3",
   "version": "3.7.1"
  }
 },
 "nbformat": 4,
 "nbformat_minor": 2
}
